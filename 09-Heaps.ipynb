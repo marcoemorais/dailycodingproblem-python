{
 "cells": [
  {
   "cell_type": "markdown",
   "metadata": {},
   "source": [
    "# 9.0 Heaps"
   ]
  },
  {
   "cell_type": "markdown",
   "metadata": {},
   "source": [
    "## 9.1 Compute the running median"
   ]
  },
  {
   "cell_type": "markdown",
   "metadata": {},
   "source": [
    "### Problem Statement\n",
    "Given an input stream of numbers, return the median value in the stream each time a new number is added using only constant time operations.\n",
    "\n",
    "#### Clarification\n",
    "The median of even list of numbers is the average of the two middle values."
   ]
  },
  {
   "cell_type": "code",
   "execution_count": 1,
   "metadata": {},
   "outputs": [
    {
     "name": "stderr",
     "output_type": "stream",
     "text": [
      "test_running_median (__main__.RunningMedianTest) ... ok\n",
      "\n",
      "----------------------------------------------------------------------\n",
      "Ran 1 test in 0.007s\n",
      "\n",
      "OK\n"
     ]
    },
    {
     "data": {
      "text/plain": [
       "<unittest.main.TestProgram at 0x7fc138498710>"
      ]
     },
     "execution_count": 1,
     "metadata": {},
     "output_type": "execute_result"
    }
   ],
   "source": [
    "import collections\n",
    "import heapq\n",
    "import unittest\n",
    "\n",
    "\n",
    "class RunningMedian(object):\n",
    "    \"\"\"RunningMedian returns the median from a stream of numbers.\"\"\"\n",
    "    \n",
    "    def __init__(self):\n",
    "        # Use two heaps to compute the median in constant time.\n",
    "        # In a stream of N numbers, minheap will hold the largest N/2.\n",
    "        # In a stream of N numbers, maxheap will hold the smallest N/2.\n",
    "        self.minheap = []\n",
    "        self.maxheap = []  # Negate entries to use heapq as maxheap.\n",
    "\n",
    "    def median(self, x):\n",
    "        \"\"\"Add a number to the stream and return the median value.\"\"\"\n",
    "        # Insert x into the heap that preserves the invariant of each.\n",
    "        if len(self.maxheap) and x <= -self.maxheap[0]:\n",
    "            heapq.heappush(self.maxheap, -x)\n",
    "        else:\n",
    "            heapq.heappush(self.minheap, x)\n",
    "\n",
    "        # Check whether heaps need to be rebalanced.\n",
    "        n, diff = (len(self.maxheap) + len(self.minheap),\n",
    "                   len(self.maxheap) - len(self.minheap))\n",
    "        iseven = n % 2 == 0\n",
    "        if (iseven and abs(diff) > 0) or (not(iseven) and abs(diff) > 1):\n",
    "            if diff > 0:  # Copy max to min.\n",
    "                item = heapq.heappop(self.maxheap)\n",
    "                heapq.heappush(self.minheap, -item)\n",
    "            else:  # Copy min to max.\n",
    "                item = heapq.heappop(self.minheap)\n",
    "                heapq.heappush(self.maxheap, -item)\n",
    "\n",
    "        # Return the median.\n",
    "        if iseven: \n",
    "            return (self.minheap[0] + -self.maxheap[0]) / 2.\n",
    "        return -self.maxheap[0] if diff > 0 else self.minheap[0]\n",
    "\n",
    "\n",
    "class RunningMedianTest(unittest.TestCase):\n",
    "\n",
    "    def test_running_median(self):\n",
    "        case = collections.namedtuple('case', ['input','expected'])\n",
    "        cases = [\n",
    "            case([1,3,7,2,5,0], [1,2,3,2.5,3,2.5]),\n",
    "            case([7,2,5,3,1,0], [7,4.5,5,4,3,2.5]),\n",
    "            case([2,7,3,1,5,0], [2,4.5,3,2.5,3,2.5]),\n",
    "            case([2,1,5,7,2,0,5], [2,1.5,2,3.5,2,2,2]),\n",
    "        ]\n",
    "        for c in cases:\n",
    "            median = RunningMedian()\n",
    "            for ind, x in enumerate(c.input):\n",
    "                rcv = median.median(x)\n",
    "                self.assertEqual(rcv, c.expected[ind])\n",
    "\n",
    "\n",
    "unittest.main(RunningMedianTest(), argv=[''], verbosity=2, exit=False)"
   ]
  },
  {
   "cell_type": "markdown",
   "metadata": {},
   "source": [
    "## 9.2 Find most similar websites"
   ]
  },
  {
   "cell_type": "markdown",
   "metadata": {},
   "source": [
    "### Problem Statement\n",
    "Given an input list of $n$ tuples of urls visited by a user: $[(url_1, user_1), \\cdots, (url_n, user_n)]$, return the top $k$ pairs of urls with the most similar users.\n",
    "\n",
    "The output from this function should be of the form $(url_i, url_j, s_ij)$\n",
    "where\n",
    "* $url_i$ and $url_j$ with $i \\neq j$ are a pair of urls\n",
    "* $s_i$ is the similarity score of the users visiting this pair of urls \n",
    "\n",
    "#### Clarification\n",
    "The intersection over union aka [Jaccard similarity](https://en.wikipedia.org/wiki/Jaccard_index) normalizes the count of users shared by a pair of urls by the union of users visiting those urls.  This makes the metric suitable for cases like this where the number samples between pairs of urls varies."
   ]
  },
  {
   "cell_type": "code",
   "execution_count": 2,
   "metadata": {},
   "outputs": [
    {
     "name": "stderr",
     "output_type": "stream",
     "text": [
      "test_topk_similar_users (__main__.TopKSimilarUsers) ... ok\n",
      "\n",
      "----------------------------------------------------------------------\n",
      "Ran 1 test in 0.002s\n",
      "\n",
      "OK\n"
     ]
    },
    {
     "data": {
      "text/plain": [
       "<unittest.main.TestProgram at 0x7fc138406da0>"
      ]
     },
     "execution_count": 2,
     "metadata": {},
     "output_type": "execute_result"
    }
   ],
   "source": [
    "import collections\n",
    "import heapq\n",
    "import unittest\n",
    "\n",
    "\n",
    "def topk_similar_users(rawdata, k):\n",
    "    \"\"\"Return the top k pairs of urls with the most similar users.\"\"\"\n",
    "    \n",
    "    # Build a map from url to set of users.\n",
    "    urls_and_users = collections.defaultdict(set)\n",
    "    for url, user in rawdata:\n",
    "        urls_and_users[url].add(user)  # Handles dedupe.\n",
    "\n",
    "    # Compute the similarity for each n(n-1)/2 unique pair of urls.\n",
    "    # Use a min heap to mantain a running top-k.\n",
    "    scores, urls = [], list(urls_and_users.keys())\n",
    "    for i in range(len(urls)):\n",
    "        for j in range(i+1,len(urls)):\n",
    "            urli, urlj = urls[i], urls[j]\n",
    "            cap = len(urls_and_users[urli]\n",
    "                      .intersection(urls_and_users[urlj]))\n",
    "            cup = len(urls_and_users[urli]\n",
    "                      .union(urls_and_users[urlj]))\n",
    "            score = cap / cup if cup > 0 else 0.\n",
    "            entry = (score, urli, urlj)\n",
    "            if len(scores) < k:  # Add the first k scores.\n",
    "                heapq.heappush(scores, entry)\n",
    "            elif score > scores[0][0]:  # Replace kth score with current.\n",
    "                heapq.heappop(scores)\n",
    "                heapq.heappush(scores, entry)\n",
    "\n",
    "    return sorted(scores, reverse=True)\n",
    "\n",
    "\n",
    "class TopKSimilarUsers(unittest.TestCase):\n",
    "    \n",
    "    def setUp(self):\n",
    "        self.rawdata1 = [\n",
    "            (\"w1\", \"u1\"), (\"w1\", \"u2\"), (\"w1\", \"u3\"),\n",
    "            (\"w2\", \"u2\"), (\"w2\", \"u3\"), (\"w2\", \"u4\"),\n",
    "            (\"w3\", \"u4\"), (\"w3\", \"u5\"), (\"w3\", \"u6\"), (\"w3\", \"u7\"),\n",
    "            (\"w4\", \"u5\"), (\"w4\", \"u6\"), (\"w4\", \"u7\"), (\"w4\", \"u8\"),\n",
    "            (\"w5\", \"u6\"), (\"w5\", \"u7\"), (\"w5\", \"u8\"), (\"w5\", \"u9\"),\n",
    "            (\"w5\", \"u10\"),\n",
    "            (\"w5\", \"u11\"),\n",
    "            (\"w5\", \"u12\")]\n",
    "        self.k1 = 3\n",
    "        self.topk1 = [\n",
    "            (0.6,'w3','w4'),\n",
    "            (0.5,'w1','w2'),\n",
    "            (0.375,'w4','w5'),\n",
    "        ]\n",
    "\n",
    "    def test_topk_similar_users(self):\n",
    "        case = collections.namedtuple('case', ['rawdata','k','expected'])\n",
    "        cases = [\n",
    "            case(self.rawdata1,self.k1, self.topk1),\n",
    "        ]\n",
    "        for c in cases:\n",
    "            rcv = topk_similar_users(c.rawdata, c.k)\n",
    "            self.assertEqual(rcv, c.expected)\n",
    "\n",
    "\n",
    "unittest.main(TopKSimilarUsers(), argv=[''], verbosity=2, exit=False)"
   ]
  },
  {
   "cell_type": "markdown",
   "metadata": {},
   "source": [
    "## 9.3 Generate regular numbers"
   ]
  },
  {
   "cell_type": "markdown",
   "metadata": {},
   "source": [
    "### Problem Statement\n",
    "Given an integer $n$, write a program that generates the first $n$ regular numbers.\n",
    "\n",
    "[regular number](https://en.wikipedia.org/wiki/Regular_number) (def.)\n",
    "> Regular numbers are numbers that evenly divide powers of 60 (or, equivalently powers of 30). As an example, 60^2 = 3600 = 48 × 75, so both 48 and 75 are divisors of a power of 60. Thus, they are regular numbers. Equivalently, they are the numbers whose only prime divisors are 2, 3, and 5."
   ]
  },
  {
   "cell_type": "code",
   "execution_count": null,
   "metadata": {},
   "outputs": [],
   "source": []
  },
  {
   "cell_type": "markdown",
   "metadata": {},
   "source": [
    "## 9.4 Build a Huffman tree"
   ]
  },
  {
   "cell_type": "markdown",
   "metadata": {},
   "source": [
    "### Problem Statement\n",
    "Given a dictionary of character frequencies, build a Huffman tree, and use it to determine a mapping between characters and their encoded binary string.\n",
    "\n",
    "Minimize the average code length of characters represented by the tree.\n",
    "$$\n",
    "\\sum_{c \\in C}^{|C|} p_c b_c\n",
    "$$\n",
    "where\n",
    "* $C$ is the alphabet\n",
    "* $p_c$ is the frequency of character $c$\n",
    "* $b_c$ is the number of bits used to represent character $c$\n",
    "\n",
    "#### Background\n",
    "\n",
    "A [Huffman tree](https://en.wikipedia.org/wiki/Huffman_coding) is a binary tree in which the path to each leaf node in the tree is described by a series of binary digits depending on whether a node along the path is a left child (0) or right child (1).  Unlike fixed length binary representations, the tree is constructed to minimize the path length of the most frequently occuring characters."
   ]
  },
  {
   "cell_type": "code",
   "execution_count": 3,
   "metadata": {},
   "outputs": [
    {
     "name": "stderr",
     "output_type": "stream",
     "text": [
      "test_make_huffman_tree (__main__.MakeHuffmanTreeTest) ... ok\n",
      "\n",
      "----------------------------------------------------------------------\n",
      "Ran 1 test in 0.010s\n",
      "\n",
      "OK\n"
     ]
    },
    {
     "data": {
      "text/plain": [
       "<unittest.main.TestProgram at 0x7fc13842a320>"
      ]
     },
     "execution_count": 3,
     "metadata": {},
     "output_type": "execute_result"
    }
   ],
   "source": [
    "import collections\n",
    "import heapq\n",
    "import unittest\n",
    "\n",
    "\n",
    "class BinaryTreeNode(object):\n",
    "    \"\"\"Node in a binary tree.\"\"\"\n",
    "    \n",
    "    def __init__(self, data=None, left=None, right=None):\n",
    "        self.data = data\n",
    "        self.left = left\n",
    "        self.right = right\n",
    "\n",
    "\n",
    "def make_huffman_tree(frequencies):\n",
    "    \"\"\"Make a Huffman tree from a dictionary of character frequencies.\"\"\"\n",
    "    assert len(frequencies) > 0, 'invalid: empty character frequencies'\n",
    "\n",
    "    # Populate a min-heap of character frequency.\n",
    "    minheap, counts = [], collections.defaultdict(int)\n",
    "    for char, frequency in frequencies.items():\n",
    "        # The count reflecting the order of insertion is used as \n",
    "        # a tiebreaker when inserting elements of same value into heap.\n",
    "        counts[frequency] += 1\n",
    "        entry = (frequency, counts[frequency], BinaryTreeNode(char))\n",
    "        heapq.heappush(minheap, entry)\n",
    "\n",
    "    # Successively merge increasingly larger frequency subtrees.\n",
    "    # Higher frequency characters have shorter encoding lengths.\n",
    "    while len(minheap) > 1:  # Require two subtrees to merge.\n",
    "        entry1 = heapq.heappop(minheap)\n",
    "        entry2 = heapq.heappop(minheap)\n",
    "        sumfreq = entry1[0] + entry2[0]\n",
    "        counts[sumfreq] += 1\n",
    "        # Merge the subtrees, smaller subtree is right child.\n",
    "        node = BinaryTreeNode(data=None)\n",
    "        if entry1[0] < entry2[0]:\n",
    "            node.left, node.right = entry2[2], entry1[2]\n",
    "        else:\n",
    "            node.left, node.right = entry1[2], entry2[2]\n",
    "        heapq.heappush(minheap, (sumfreq, counts[sumfreq], node))\n",
    "\n",
    "    return heapq.heappop(minheap)[2]\n",
    "\n",
    "\n",
    "def get_encodings(huffman, encoding=''):\n",
    "    \"\"\"Return all binary encodings from the Huffman tree.\"\"\"\n",
    "    # Recursively obtain the encoding from each leaf in tree.\n",
    "    if huffman.left is None and huffman.right is None:\n",
    "        return {huffman.data:encoding}\n",
    "    encodings = {}\n",
    "    if huffman.left:\n",
    "        encodings.update(get_encodings(huffman.left, encoding+'0'))\n",
    "    if huffman.right:\n",
    "        encodings.update(get_encodings(huffman.right, encoding+'1'))\n",
    "    return encodings\n",
    "\n",
    "\n",
    "class MakeHuffmanTreeTest(unittest.TestCase):\n",
    "    \n",
    "    def setUp(self):\n",
    "        self.frequencies1 = {'A':0.6,'B':0.25,'C':.1,'D':0.05}\n",
    "        self.encodings1 = {'A':'0','B':'10','C':'110','D':'111'}\n",
    "        self.frequencies2 = {'A':3,'B':2,'C':6,'D':8,'E':2,'F':6}\n",
    "        self.encodings2 = {'A':'011','B':'0100','C':'10','D':'00',\n",
    "                           'E':'0101','F':'11'}\n",
    "\n",
    "    def test_make_huffman_tree(self):\n",
    "        case = collections.namedtuple('case', ['input','expected'])\n",
    "        cases = [\n",
    "            case(self.frequencies1, self.encodings1),\n",
    "            case(self.frequencies2, self.encodings2),\n",
    "        ]\n",
    "        for c in cases:\n",
    "            rcv = make_huffman_tree(c.input)\n",
    "            encodings = get_encodings(rcv)\n",
    "            self.assertEqual(encodings, c.expected)\n",
    "\n",
    "\n",
    "unittest.main(MakeHuffmanTreeTest(), argv=[''], verbosity=2, exit=False)"
   ]
  },
  {
   "cell_type": "code",
   "execution_count": null,
   "metadata": {},
   "outputs": [],
   "source": []
  }
 ],
 "metadata": {
  "kernelspec": {
   "display_name": "Python 3",
   "language": "python",
   "name": "python3"
  },
  "language_info": {
   "codemirror_mode": {
    "name": "ipython",
    "version": 3
   },
   "file_extension": ".py",
   "mimetype": "text/x-python",
   "name": "python",
   "nbconvert_exporter": "python",
   "pygments_lexer": "ipython3",
   "version": "3.6.9"
  }
 },
 "nbformat": 4,
 "nbformat_minor": 2
}
