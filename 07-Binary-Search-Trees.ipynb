{
 "cells": [
  {
   "cell_type": "markdown",
   "metadata": {},
   "source": [
    "# 7.0 Binary Search Trees"
   ]
  },
  {
   "cell_type": "markdown",
   "metadata": {},
   "source": [
    "Add some common functions for representing binary search trees and converting between binary search trees and python lists."
   ]
  },
  {
   "cell_type": "code",
   "execution_count": 1,
   "metadata": {},
   "outputs": [],
   "source": [
    "import collections\n",
    "\n",
    "\n",
    "class BSTNode(object):\n",
    "    \"\"\"Node in a binary search tree.\"\"\"\n",
    "    \n",
    "    def __init__(self, data, left=None, right=None):\n",
    "        self.data = data\n",
    "        self.left = left\n",
    "        self.right = right\n",
    "\n",
    "    def insert(self, data):\n",
    "        if data < self.data:\n",
    "            if self.left:\n",
    "                return self.left.insert(data)\n",
    "            self.left = BSTNode(data)\n",
    "            return self.left\n",
    "        elif data > self.data:\n",
    "            if self.right:\n",
    "                return self.right.insert(data)\n",
    "            self.right = BSTNode(data)\n",
    "            return self.right\n",
    "        # Ignore duplicate values. \n",
    "\n",
    "\n",
    "def make_bst(elems):\n",
    "    \"\"\"Return a binary search tree initialized from a python list.\"\"\"\n",
    "\n",
    "    root = BSTNode(elems[0]) if len(elems) > 0 else None\n",
    "    for x in elems[1:]:\n",
    "        root.insert(x)\n",
    "    return root\n",
    "\n",
    "\n",
    "def make_list(root):\n",
    "    \"\"\"Return a python list initialized from a binary search tree.\"\"\"\n",
    "    \n",
    "    # Values are inserted into python list using level-order traversal.\n",
    "    elems, queue = [], collections.deque([root])\n",
    "    while len(queue) > 0:\n",
    "        node = queue.popleft()\n",
    "        if node:\n",
    "            elems.append(node.data)\n",
    "            if node.left:\n",
    "                queue.append(node.left)\n",
    "            if node.right:\n",
    "                queue.append(node.right)\n",
    "    \n",
    "    return elems"
   ]
  },
  {
   "cell_type": "markdown",
   "metadata": {},
   "source": [
    "## 7.1 Find floor and ceiling"
   ]
  },
  {
   "cell_type": "markdown",
   "metadata": {},
   "source": [
    "### Problem Statement\n",
    "Implement the [floor and ceiling functions](https://en.wikipedia.org/wiki/Floor_and_ceiling_functions) for a binary search tree.\n",
    "\n",
    "floor (def.)\n",
    "> Returns the greatest value less than or equal to the value passed as input.\n",
    "\n",
    "ceiling (def.)\n",
    "> Returns the smallest value greater than or equal to the value passed as input."
   ]
  },
  {
   "cell_type": "code",
   "execution_count": 2,
   "metadata": {},
   "outputs": [
    {
     "name": "stderr",
     "output_type": "stream",
     "text": [
      "test_floor (__main__.FloorTest) ... ok\n",
      "\n",
      "----------------------------------------------------------------------\n",
      "Ran 1 test in 0.004s\n",
      "\n",
      "OK\n"
     ]
    },
    {
     "data": {
      "text/plain": [
       "<unittest.main.TestProgram at 0x7fe469ee39b0>"
      ]
     },
     "execution_count": 2,
     "metadata": {},
     "output_type": "execute_result"
    }
   ],
   "source": [
    "import collections\n",
    "import unittest\n",
    "\n",
    "\n",
    "def floor(root, x):\n",
    "    \"\"\"Returns the greatest value less than equal to x or None.\"\"\"\n",
    "    node, prev = root, None\n",
    "    while node:\n",
    "        if x < node.data:\n",
    "            # Node is not a solution, but solution might be in subtree.\n",
    "            node = node.left\n",
    "        elif x > node.data:\n",
    "            if node.right is None:\n",
    "                return node.data\n",
    "            # Node is potential solution, but a better solution \n",
    "            # might exist in the left subtree of the right child.\n",
    "            node, prev = node.right, node\n",
    "        else:  # Exact match.\n",
    "            return node.data\n",
    "    return prev.data if prev else None\n",
    "\n",
    "\n",
    "class FloorTest(unittest.TestCase):\n",
    "    \n",
    "    def setUp(self):\n",
    "        self.bstA = make_bst([7,3,1,5,11,9,13])  # Balanced.\n",
    "        self.bstB = make_bst([1,7,5,9,3])  # Unbalanced.\n",
    "\n",
    "    def test_floor(self):\n",
    "        case = collections.namedtuple('case', ['root','x','expected'])\n",
    "        cases = [\n",
    "            # Balanced BST.\n",
    "            case(self.bstA,0,  None),\n",
    "            case(self.bstA,1,  1),\n",
    "            case(self.bstA,2,  1),\n",
    "            case(self.bstA,3,  3),\n",
    "            case(self.bstA,4,  3),\n",
    "            case(self.bstA,5,  5),\n",
    "            case(self.bstA,6,  5),\n",
    "            case(self.bstA,7,  7),\n",
    "            case(self.bstA,8,  7),\n",
    "            case(self.bstA,9,  9),\n",
    "            case(self.bstA,10, 9),\n",
    "            case(self.bstA,11, 11),\n",
    "            case(self.bstA,12, 11),\n",
    "            case(self.bstA,13, 13),\n",
    "            case(self.bstA,14, 13),\n",
    "            # Unbalanced BST.\n",
    "            case(self.bstB,0,  None),\n",
    "            case(self.bstB,1,  1),\n",
    "            case(self.bstB,2,  1),\n",
    "            case(self.bstB,3,  3),\n",
    "            case(self.bstB,4,  3),\n",
    "            case(self.bstB,5,  5),\n",
    "            case(self.bstB,6,  5),\n",
    "            case(self.bstB,7,  7),\n",
    "            case(self.bstB,8,  7),\n",
    "            case(self.bstB,9,  9),\n",
    "            case(self.bstB,10, 9),\n",
    "        ]\n",
    "        for c in cases:\n",
    "            rcv = floor(c.root, c.x)\n",
    "            self.assertEqual(rcv, c.expected)\n",
    "\n",
    "\n",
    "unittest.main(FloorTest(), argv=[''], verbosity=2, exit=False)"
   ]
  },
  {
   "cell_type": "code",
   "execution_count": 3,
   "metadata": {},
   "outputs": [
    {
     "name": "stderr",
     "output_type": "stream",
     "text": [
      "test_ceil (__main__.CeilTest) ... ok\n",
      "\n",
      "----------------------------------------------------------------------\n",
      "Ran 1 test in 0.004s\n",
      "\n",
      "OK\n"
     ]
    },
    {
     "data": {
      "text/plain": [
       "<unittest.main.TestProgram at 0x7fe469e780f0>"
      ]
     },
     "execution_count": 3,
     "metadata": {},
     "output_type": "execute_result"
    }
   ],
   "source": [
    "import collections\n",
    "import unittest\n",
    "\n",
    "\n",
    "def ceil(root, x):\n",
    "    \"\"\"Returns the smallest value greater than or equal to x or None.\"\"\"\n",
    "    node, prev = root, None\n",
    "    while node:\n",
    "        if x < node.data:\n",
    "            if node.left is None:\n",
    "                return node.data\n",
    "            # Node is potential solution, but better solution\n",
    "            # might exist in the left subtree of the left child.\n",
    "            node, prev = node.left, node\n",
    "        elif x > node.data:\n",
    "            # Node is not a solution, but solution might be in subtree.\n",
    "            node = node.right\n",
    "        else:  # Exact match.\n",
    "            return node.data\n",
    "    return prev.data if prev else None\n",
    "\n",
    "\n",
    "class CeilTest(unittest.TestCase):\n",
    "    \n",
    "    def setUp(self):\n",
    "        self.bstA = make_bst([7,3,1,5,11,9,13])  # Balanced.\n",
    "        self.bstB = make_bst([1,7,5,9,3])  # Unbalanced.\n",
    "\n",
    "    def test_ceil(self):\n",
    "        case = collections.namedtuple('case', ['root','x','expected'])\n",
    "        cases = [\n",
    "            # Balanced BST.\n",
    "            case(self.bstA,0,  1),\n",
    "            case(self.bstA,1,  1),\n",
    "            case(self.bstA,2,  3),\n",
    "            case(self.bstA,3,  3),\n",
    "            case(self.bstA,4,  5),\n",
    "            case(self.bstA,5,  5),\n",
    "            case(self.bstA,6,  7),\n",
    "            case(self.bstA,7,  7),\n",
    "            case(self.bstA,8,  9),\n",
    "            case(self.bstA,9,  9),\n",
    "            case(self.bstA,10, 11),\n",
    "            case(self.bstA,11, 11),\n",
    "            case(self.bstA,12, 13),\n",
    "            case(self.bstA,13, 13),\n",
    "            case(self.bstA,14, None),\n",
    "            # Unbalanced BST.\n",
    "            case(self.bstB,0,  1),\n",
    "            case(self.bstB,1,  1),\n",
    "            case(self.bstB,2,  3),\n",
    "            case(self.bstB,3,  3),\n",
    "            case(self.bstB,4,  5),\n",
    "            case(self.bstB,5,  5),\n",
    "            case(self.bstB,6,  7),\n",
    "            case(self.bstB,7,  7),\n",
    "            case(self.bstB,8,  9),\n",
    "            case(self.bstB,9,  9),\n",
    "            case(self.bstB,10, None),\n",
    "        ]\n",
    "        for c in cases:\n",
    "            rcv = ceil(c.root, c.x)\n",
    "            self.assertEqual(rcv, c.expected)\n",
    "\n",
    "\n",
    "unittest.main(CeilTest(), argv=[''], verbosity=2, exit=False)"
   ]
  },
  {
   "cell_type": "markdown",
   "metadata": {},
   "source": [
    "## 7.2 Convert sorted array to BST"
   ]
  },
  {
   "cell_type": "markdown",
   "metadata": {},
   "source": [
    "### Problem Statement\n",
    "Create a height balanced binary search tree from a sorted array."
   ]
  },
  {
   "cell_type": "code",
   "execution_count": 4,
   "metadata": {},
   "outputs": [
    {
     "name": "stderr",
     "output_type": "stream",
     "text": [
      "test_solution (__main__.MakeBalancedBSTTest) ... ok\n",
      "\n",
      "----------------------------------------------------------------------\n",
      "Ran 1 test in 0.004s\n",
      "\n",
      "OK\n"
     ]
    },
    {
     "data": {
      "text/plain": [
       "<unittest.main.TestProgram at 0x7fe469ec0240>"
      ]
     },
     "execution_count": 4,
     "metadata": {},
     "output_type": "execute_result"
    }
   ],
   "source": [
    "import collections\n",
    "import unittest\n",
    "\n",
    "\n",
    "def make_balanced_bst(elems):\n",
    "    \"\"\"Create a balanced binary search tree from a sorted python list.\"\"\"\n",
    "    # Select the middle valued element to form the root of the tree\n",
    "    # in order to have equal numbers of nodes in left and right subtree.\n",
    "    mid = len(elems)//2\n",
    "    root = BSTNode(elems[mid])\n",
    "    if mid > 0:\n",
    "        root.left = make_balanced_bst(elems[:mid])\n",
    "    if mid+1 < len(elems):\n",
    "        root.right = make_balanced_bst(elems[mid+1:])\n",
    "    return root\n",
    "\n",
    "\n",
    "class MakeBalancedBSTTest(unittest.TestCase):\n",
    "\n",
    "    def test_solution(self):\n",
    "        case = collections.namedtuple('case', ['input','expected'])\n",
    "        cases = [\n",
    "            case([1,2,3,4,5,6,7], [4,2,6,1,3,5,7]),\n",
    "            case([1], [1]),\n",
    "            case([1,2,3], [2,1,3]),\n",
    "            case([1,2,3,4,5], [3,2,5,1,4]),\n",
    "        ]\n",
    "        for c in cases:\n",
    "            rcv = make_balanced_bst(c.input)\n",
    "            self.assertEqual(make_list(rcv), c.expected)\n",
    "\n",
    "\n",
    "unittest.main(MakeBalancedBSTTest(), argv=[''], verbosity=2, exit=False)"
   ]
  },
  {
   "cell_type": "markdown",
   "metadata": {},
   "source": [
    "## 7.3 Construct all BSTs with $n$ nodes"
   ]
  },
  {
   "cell_type": "markdown",
   "metadata": {},
   "source": [
    "### Problem Statement\n",
    "Given an integer $n$, construct all valid binary search trees that can be formed from the sequence $1,2,\\cdots,n$. "
   ]
  },
  {
   "cell_type": "code",
   "execution_count": 5,
   "metadata": {},
   "outputs": [
    {
     "name": "stderr",
     "output_type": "stream",
     "text": [
      "test_solution (__main__.MakeBSTPermutationsTest) ... ok\n",
      "\n",
      "----------------------------------------------------------------------\n",
      "Ran 1 test in 0.006s\n",
      "\n",
      "OK\n"
     ]
    },
    {
     "data": {
      "text/plain": [
       "<unittest.main.TestProgram at 0x7fe469e6e0b8>"
      ]
     },
     "execution_count": 5,
     "metadata": {},
     "output_type": "execute_result"
    }
   ],
   "source": [
    "import collections\n",
    "import unittest\n",
    "\n",
    "\n",
    "def make_bst_permutations(elems):\n",
    "    \"\"\"Construct all valid binary search trees containing elems.\"\"\"\n",
    "    bsts = [] if len(elems) > 0 else [None]\n",
    "    \n",
    "    # Construct a BST with each entry from elems as the root.\n",
    "    for ind, x in enumerate(elems):\n",
    "        # Construct the permutations of left and right subtrees.\n",
    "        left = make_bst_permutations(elems[:ind])\n",
    "        right = make_bst_permutations(elems[ind+1:])\n",
    "        \n",
    "        for ltree in left:\n",
    "            for rtree in right:\n",
    "                root = BSTNode(x, left=ltree, right=rtree)\n",
    "                bsts.append(root)        \n",
    "\n",
    "    return bsts\n",
    "\n",
    "\n",
    "class MakeBSTPermutationsTest(unittest.TestCase):\n",
    "\n",
    "    def test_solution(self):\n",
    "        case = collections.namedtuple('case', ['input','expected'])\n",
    "        cases = [\n",
    "            case([1,2,3], [[1,2,3],[1,3,2],[2,1,3],[3,1,2],[3,2,1]]),\n",
    "            case([1,2,3,4],\n",
    "                 [[1,2,3,4],[1,2,4,3],[1,3,2,4],[1,4,2,3],[1,4,3,2],\n",
    "                  [2,1,3,4],[2,1,4,3],\n",
    "                  [3,1,4,2],[3,2,4,1],\n",
    "                  [4,1,2,3],[4,1,3,2],[4,2,1,3],[4,3,1,2],[4,3,2,1]]),\n",
    "        ]\n",
    "        for c in cases:\n",
    "            rcv = make_bst_permutations(c.input)\n",
    "            rcv_lists = sorted([make_list(bst) for bst in rcv])\n",
    "            self.assertEqual(rcv_lists, c.expected)\n",
    "\n",
    "\n",
    "unittest.main(MakeBSTPermutationsTest(), argv=[''], verbosity=2, \n",
    "              exit=False)"
   ]
  },
  {
   "cell_type": "code",
   "execution_count": null,
   "metadata": {},
   "outputs": [],
   "source": []
  }
 ],
 "metadata": {
  "kernelspec": {
   "display_name": "Python 3",
   "language": "python",
   "name": "python3"
  },
  "language_info": {
   "codemirror_mode": {
    "name": "ipython",
    "version": 3
   },
   "file_extension": ".py",
   "mimetype": "text/x-python",
   "name": "python",
   "nbconvert_exporter": "python",
   "pygments_lexer": "ipython3",
   "version": "3.6.9"
  }
 },
 "nbformat": 4,
 "nbformat_minor": 2
}
