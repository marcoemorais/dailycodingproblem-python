{
 "cells": [
  {
   "cell_type": "markdown",
   "metadata": {},
   "source": [
    "# 14.0 Backtracking"
   ]
  },
  {
   "cell_type": "markdown",
   "metadata": {},
   "source": [
    "## 14.1 Compute flight itinerary\n",
    "\n",
    "### Problem Statement\n",
    "Given an unordered list of flights and a starting airport find an itinerary using all of the flights via backtracking."
   ]
  },
  {
   "cell_type": "code",
   "execution_count": 1,
   "metadata": {},
   "outputs": [
    {
     "name": "stderr",
     "output_type": "stream",
     "text": [
      "test_find_itinerary (__main__.FindItineraryTest) ... ok\n",
      "\n",
      "----------------------------------------------------------------------\n",
      "Ran 1 test in 0.002s\n",
      "\n",
      "OK\n"
     ]
    },
    {
     "data": {
      "text/plain": [
       "<unittest.main.TestProgram at 0x7f9f6c2a9eb8>"
      ]
     },
     "execution_count": 1,
     "metadata": {},
     "output_type": "execute_result"
    }
   ],
   "source": [
    "from collections import deque, namedtuple\n",
    "import unittest\n",
    "\n",
    "\n",
    "def find_itinerary(flights, airport, itinerary=None):\n",
    "    \"\"\"Find an itinerary using all of the flights.\"\"\"\n",
    "\n",
    "    if len(flights) < 1:\n",
    "        return\n",
    "    # Itinerary complete when all flights are added.\n",
    "    num_flights = len(itinerary) + len(flights)\n",
    "    for ind, flight in enumerate(flights):\n",
    "        if flight[0] == airport:\n",
    "            itinerary.append(flight)\n",
    "            next_flights = flights[:ind] + flights[ind+1:]\n",
    "            next_airport = flight[1]\n",
    "            find_itinerary(next_flights, next_airport, \n",
    "                           itinerary=itinerary)\n",
    "            if len(itinerary) == num_flights:\n",
    "                break  # Itinerary complete.\n",
    "            itinerary.pop()  # Try another flight.\n",
    "\n",
    "\n",
    "class FindItineraryTest(unittest.TestCase):\n",
    "\n",
    "    def test_find_itinerary(self):\n",
    "        case = namedtuple('case', ['flights', 'airport', 'expected'])\n",
    "        cases = [\n",
    "            # Valid itinerary.\n",
    "            case(\n",
    "                [('SFO','HKO'),\n",
    "                  ('YYZ','SFO'),\n",
    "                  ('YUL','YYZ'),\n",
    "                  ('HKO','ORD')],\n",
    "                'YUL',\n",
    "                [('YUL','YYZ'),\n",
    "                 ('YYZ','SFO'),\n",
    "                 ('SFO','HKO'),\n",
    "                 ('HKO','ORD')]),\n",
    "            # No valid itinerary.\n",
    "            case(\n",
    "                [('SFO','HKO'),\n",
    "                  ('YYZ','SFO'),\n",
    "                  ('YUL','YYZ'),\n",
    "                  ('XXX','ORD')],\n",
    "                'YUL',\n",
    "                []),\n",
    "            # Random.\n",
    "            case(\n",
    "                [('B','G'),('C','A'),('A','B'),('G','H'),('D','C')],\n",
    "                'D',\n",
    "                [('D','C'),('C','A'),('A','B'),('B','G'),('G','H')]),\n",
    "            case(  # C -> X\n",
    "                [('B','G'),('X','A'),('A','B'),('G','H'),('D','C')],\n",
    "                'D', []),\n",
    "            case(  # A -> X\n",
    "                [('B','G'),('C','A'),('X','B'),('G','H'),('D','C')],\n",
    "                'D', []),\n",
    "            case(  # B -> X\n",
    "                [('X','G'),('C','A'),('A','B'),('G','H'),('D','C')],\n",
    "                'D', []),\n",
    "            case(  # G -> X\n",
    "                [('B','G'),('C','A'),('A','B'),('X','H'),('D','C')],\n",
    "                'D', []),\n",
    "        ]\n",
    "        for c in cases:\n",
    "            itinerary = []\n",
    "            find_itinerary(c.flights, c.airport, itinerary=itinerary)\n",
    "            self.assertEqual(itinerary, c.expected)\n",
    "\n",
    "\n",
    "unittest.main(FindItineraryTest(), argv=[''], verbosity=2, exit=False)"
   ]
  },
  {
   "cell_type": "code",
   "execution_count": null,
   "metadata": {},
   "outputs": [],
   "source": []
  }
 ],
 "metadata": {
  "kernelspec": {
   "display_name": "Python 3",
   "language": "python",
   "name": "python3"
  },
  "language_info": {
   "codemirror_mode": {
    "name": "ipython",
    "version": 3
   },
   "file_extension": ".py",
   "mimetype": "text/x-python",
   "name": "python",
   "nbconvert_exporter": "python",
   "pygments_lexer": "ipython3",
   "version": "3.6.9"
  }
 },
 "nbformat": 4,
 "nbformat_minor": 2
}
