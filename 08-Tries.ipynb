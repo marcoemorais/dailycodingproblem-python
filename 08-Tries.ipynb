{
 "cells": [
  {
   "cell_type": "markdown",
   "metadata": {},
   "source": [
    "# 8.0 Tries"
   ]
  },
  {
   "cell_type": "markdown",
   "metadata": {},
   "source": [
    "## 8.1 Implement autocomplete\n",
    "\n",
    "### Problem Statement\n",
    "Implement an autocomplete feature for a search engine.  In other words given a string prefix, return all of the words in the index which start with the prefix.\n",
    "\n",
    "#### Examples\n",
    "Index: [`the`, `their`, `there`, `was`, `waste`]\n",
    "\n",
    "Search Term: `the` <br/>\n",
    "Returns: `the`, `their`, `there`\n",
    "\n",
    "Search Term: `wa` <br/>\n",
    "Returns: `was`, `waste`\n",
    "\n",
    "Search Term: `wasp` <br/>\n",
    "Returns: <>"
   ]
  },
  {
   "cell_type": "code",
   "execution_count": 1,
   "metadata": {},
   "outputs": [
    {
     "name": "stderr",
     "output_type": "stream",
     "text": [
      "test_autocomplete (__main__.AutocompleteTest) ... ok\n",
      "\n",
      "----------------------------------------------------------------------\n",
      "Ran 1 test in 0.004s\n",
      "\n",
      "OK\n"
     ]
    },
    {
     "data": {
      "text/plain": [
       "<unittest.main.TestProgram at 0x7f82ad4b7320>"
      ]
     },
     "execution_count": 1,
     "metadata": {},
     "output_type": "execute_result"
    }
   ],
   "source": [
    "from collections import defaultdict, deque, namedtuple\n",
    "import unittest\n",
    "\n",
    "\n",
    "class Trie(object):\n",
    "    \"\"\"Trie implemented using nested python dicts.\"\"\"\n",
    "    \n",
    "    # Non-alphabet character used to identify end of word.\n",
    "    EOW = '.'\n",
    "\n",
    "    def __init__(self):\n",
    "        self.index = defaultdict(dict)\n",
    "\n",
    "    def add_word(self, word):\n",
    "        node = self.index\n",
    "        for ind, c in enumerate(word):\n",
    "            if c in node:\n",
    "                node = node[c]\n",
    "            else:\n",
    "                node[c] = {}\n",
    "                node = node[c]\n",
    "        if len(word) > 0:\n",
    "            node[self.EOW] = ''\n",
    "\n",
    "    def search(self, prefix):\n",
    "        \"\"\"Search for words starting with prefix.\"\"\"\n",
    "        assert not(len(prefix) < 1), 'invalid: len(word) < 1'\n",
    "\n",
    "        matches, node = [], self.index\n",
    "\n",
    "        # Find the furthest matching node in the tree.\n",
    "        for c in prefix:\n",
    "            if c not in node:\n",
    "                return matches  # No matching prefix.\n",
    "            node = node[c]\n",
    "\n",
    "        # Perform a depth first traversal of the subtree\n",
    "        # accumulating all of the words matching prefix.\n",
    "        stack = deque([(node, '')])\n",
    "        while len(stack) > 0:\n",
    "            node, suffix = stack.popleft()\n",
    "            for c in node.keys():\n",
    "                if c == self.EOW:\n",
    "                    matches.append(prefix + suffix)\n",
    "                else:\n",
    "                    stack.appendleft((node[c], suffix+c))\n",
    "        \n",
    "        return matches\n",
    "\n",
    "\n",
    "class AutocompleteTest(unittest.TestCase):\n",
    "    \n",
    "    def setUp(self):\n",
    "        self.words1 = ['t','the','their','there','was','waste']\n",
    "\n",
    "    def test_autocomplete(self):\n",
    "        case = namedtuple('case', ['words','prefix','expected'])\n",
    "        cases = [\n",
    "            case(self.words1, 't', ['t','the','their','there']),\n",
    "            case(self.words1, 'th', ['the','their','there']),\n",
    "            case(self.words1, 'the', ['the','their','there']),\n",
    "            case(self.words1, 'them', []),\n",
    "            case(self.words1, 'thei', ['their']),\n",
    "            case(self.words1, 'their', ['their']),\n",
    "            case(self.words1, 'theirs', []),\n",
    "            case(self.words1, 'ther', ['there']),\n",
    "            case(self.words1, 'there', ['there']),\n",
    "            case(self.words1, 'therein', []),\n",
    "            case(self.words1, 'w', ['was', 'waste']),\n",
    "            case(self.words1, 'wb', []),\n",
    "            case(self.words1, 'wa', ['was', 'waste']),\n",
    "            case(self.words1, 'was', ['was', 'waste']),\n",
    "            case(self.words1, 'wae', []),\n",
    "            case(self.words1, 'wast', ['waste']),\n",
    "            case(self.words1, 'waste', ['waste']),\n",
    "            case(self.words1, 'wastes', []),\n",
    "            case(self.words1, 'x', []),\n",
    "        ]\n",
    "        for c in cases:\n",
    "            trie = Trie()\n",
    "            for word in c.words:\n",
    "                trie.add_word(word)\n",
    "            rcv = trie.search(c.prefix)\n",
    "            self.assertEqual(sorted(rcv), sorted(c.expected))\n",
    "\n",
    "\n",
    "unittest.main(AutocompleteTest(), argv=[''], verbosity=2, exit=False)"
   ]
  },
  {
   "cell_type": "code",
   "execution_count": null,
   "metadata": {},
   "outputs": [],
   "source": []
  }
 ],
 "metadata": {
  "kernelspec": {
   "display_name": "Python 3",
   "language": "python",
   "name": "python3"
  },
  "language_info": {
   "codemirror_mode": {
    "name": "ipython",
    "version": 3
   },
   "file_extension": ".py",
   "mimetype": "text/x-python",
   "name": "python",
   "nbconvert_exporter": "python",
   "pygments_lexer": "ipython3",
   "version": "3.6.9"
  }
 },
 "nbformat": 4,
 "nbformat_minor": 2
}
