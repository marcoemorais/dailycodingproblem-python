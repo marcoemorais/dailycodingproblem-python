{
 "cells": [
  {
   "cell_type": "markdown",
   "metadata": {},
   "source": [
    "# 1.0 Arrays"
   ]
  },
  {
   "cell_type": "markdown",
   "metadata": {},
   "source": [
    "## 1.1 Get product of all other elements"
   ]
  },
  {
   "cell_type": "markdown",
   "metadata": {},
   "source": [
    "### Problem Statement\n",
    "Given an array of integers, return a new array such that each element at index $i$ in the new array is equal to the product of all but the ith element.  \n",
    "\n",
    "Use of division is prohibited."
   ]
  },
  {
   "cell_type": "code",
   "execution_count": 1,
   "metadata": {},
   "outputs": [
    {
     "name": "stderr",
     "output_type": "stream",
     "text": [
      "test_products (__main__.ProductsTest) ... ok\n",
      "\n",
      "----------------------------------------------------------------------\n",
      "Ran 1 test in 0.002s\n",
      "\n",
      "OK\n"
     ]
    },
    {
     "data": {
      "text/plain": [
       "<unittest.main.TestProgram at 0x7efdf83b8d30>"
      ]
     },
     "execution_count": 1,
     "metadata": {},
     "output_type": "execute_result"
    }
   ],
   "source": [
    "import collections\n",
    "import unittest\n",
    "\n",
    "\n",
    "def products(elems):\n",
    "    \"\"\"Return an array containing the n-1 products of the input.\"\"\"\n",
    "    assert not(len(elems) < 3), 'invalid: len(elems) < 3'\n",
    "\n",
    "    forward, backward = elems[:], elems[:]\n",
    "\n",
    "    # Obtain products in the forward direction.\n",
    "    for ind in range(1,len(elems)):\n",
    "        forward[ind] = forward[ind]*forward[ind-1]\n",
    "\n",
    "    # Obtain products in the backward direction.\n",
    "    for ind in range(len(elems)-2,-1,-1):\n",
    "        backward[ind] = backward[ind]*backward[ind+1]\n",
    "\n",
    "    # Compute each of the n-1 products.\n",
    "    products = [None]*len(elems)\n",
    "    products[0], products[-1] = backward[1], forward[-2]\n",
    "    for ind in range(1,len(elems)-1):\n",
    "        products[ind] = forward[ind-1]*backward[ind+1]\n",
    "\n",
    "    return products\n",
    "\n",
    "\n",
    "class ProductsTest(unittest.TestCase):\n",
    "    \n",
    "    def test_products(self):\n",
    "        case = collections.namedtuple('case', ['input','expected'])\n",
    "        cases = [\n",
    "            # 1..5\n",
    "            case([1,2,3,4,5], [120,60,40,30,24]),\n",
    "            # 5..1\n",
    "            case([5,4,3,2,1], [24,30,40,60,120]),\n",
    "            # Non-contiguous values.\n",
    "            case([6,9,2,5,3], [270,180,810,324,540]),\n",
    "            # Mix of negative and positive values.\n",
    "            case([-5,10,2,-4], [-80,40,200,-100]),\n",
    "        ]\n",
    "        for c in cases:\n",
    "            rcv = products(c.input)\n",
    "            self.assertEqual(rcv, c.expected)\n",
    "\n",
    "\n",
    "unittest.main(ProductsTest(), argv=[''], verbosity=2, exit=False)"
   ]
  },
  {
   "cell_type": "markdown",
   "metadata": {},
   "source": [
    "## 1.2 Locate smallest window to be sorted"
   ]
  },
  {
   "cell_type": "markdown",
   "metadata": {},
   "source": [
    "### Problem Statement\n",
    "Given an array of integers that are out of order, determine the indices of the smallest window that must be sorted in order for the entire array to be sorted."
   ]
  },
  {
   "cell_type": "code",
   "execution_count": 2,
   "metadata": {},
   "outputs": [
    {
     "name": "stderr",
     "output_type": "stream",
     "text": [
      "test_smallest_unsorted_window (__main__.SmallestUnsortedWindowTest) ... ok\n",
      "\n",
      "----------------------------------------------------------------------\n",
      "Ran 1 test in 0.011s\n",
      "\n",
      "OK\n"
     ]
    },
    {
     "data": {
      "text/plain": [
       "<unittest.main.TestProgram at 0x7efdf8333b38>"
      ]
     },
     "execution_count": 2,
     "metadata": {},
     "output_type": "execute_result"
    }
   ],
   "source": [
    "import collections\n",
    "import unittest\n",
    "\n",
    "\n",
    "def smallest_unsorted_window(elems):\n",
    "    \"\"\"Return indices of the smallest unsorted window in the input.\"\"\"\n",
    "    assert not(len(elems) < 2), 'invalid: len(elems) < 2'\n",
    "\n",
    "    unsorted = False\n",
    "\n",
    "    # Scan left-to-right searching for rightmost unsorted element.\n",
    "    max_value, max_ind = elems[0], 0\n",
    "    for ind in range(1, len(elems)):\n",
    "        max_value = max(max_value, elems[ind])\n",
    "        if elems[ind] < max_value:\n",
    "            max_ind, unsorted = ind, True \n",
    "    \n",
    "    # Scan right-to-left searching for leftmost unsorted element.\n",
    "    min_value, min_ind = elems[-1], len(elems)-1\n",
    "    for ind in range(len(elems)-1,-1,-1):\n",
    "        min_value = min(min_value, elems[ind])\n",
    "        if elems[ind] > min_value:\n",
    "            min_ind, unsorted = ind, True\n",
    "\n",
    "    return [min_ind, max_ind] if unsorted else [None, None]\n",
    "\n",
    "\n",
    "class SmallestUnsortedWindowTest(unittest.TestCase):\n",
    "    \n",
    "    def test_smallest_unsorted_window(self):\n",
    "        case = collections.namedtuple('case', ['input','expected'])\n",
    "        cases = [\n",
    "            # Sorted.\n",
    "            case([3,5,6,7,9], [None,None]),\n",
    "            # Reversed.\n",
    "            case([9,7,6,5,3], [0,4]),\n",
    "            # Permutations of the same unsorted input.\n",
    "            case([3,7,5,6,9], [1,3]),\n",
    "            case([3,6,5,7,9], [1,2]),\n",
    "            case([7,3,5,6,9], [0,3]),\n",
    "            case([9,3,5,6,7], [0,4]),\n",
    "            case([5,3,6,7,9], [0,1]),\n",
    "            case([3,5,6,9,7], [3,4]),\n",
    "            case([5,9,7,6,3], [0,4]),\n",
    "        ]\n",
    "        for c in cases:\n",
    "            rcv = smallest_unsorted_window(c.input)\n",
    "            self.assertEqual(rcv, c.expected)\n",
    "\n",
    "\n",
    "unittest.main(SmallestUnsortedWindowTest(), argv=[''], verbosity=2, \n",
    "              exit=False)"
   ]
  },
  {
   "cell_type": "markdown",
   "metadata": {},
   "source": [
    "## 1.3 Calculate maximum subarray sum"
   ]
  },
  {
   "cell_type": "markdown",
   "metadata": {},
   "source": [
    "### Problem Statement\n",
    "Given an array of integers, find the maximum subarray sum in the input."
   ]
  },
  {
   "cell_type": "code",
   "execution_count": 3,
   "metadata": {},
   "outputs": [
    {
     "name": "stderr",
     "output_type": "stream",
     "text": [
      "test_max_subarray_sum (__main__.MaxSubarraySumTest) ... ok\n",
      "\n",
      "----------------------------------------------------------------------\n",
      "Ran 1 test in 0.014s\n",
      "\n",
      "OK\n"
     ]
    },
    {
     "data": {
      "text/plain": [
       "<unittest.main.TestProgram at 0x7efdf83b8588>"
      ]
     },
     "execution_count": 3,
     "metadata": {},
     "output_type": "execute_result"
    }
   ],
   "source": [
    "import collections\n",
    "import unittest\n",
    "\n",
    "\n",
    "def max_subarray_sum(elems):\n",
    "    \"\"\"Return the maximum subarray sum of the input.\"\"\"\n",
    "    max_sum, curr_sum = 0, 0\n",
    "    for x in elems:\n",
    "        # Update the max, handle edge case for last element on return.\n",
    "        max_sum = max(max_sum, curr_sum)\n",
    "        if curr_sum + x > 0:\n",
    "            curr_sum += x  # Add to existing sum.\n",
    "        else:\n",
    "            curr_sum = 0  # Start a new sum.\n",
    "    return max(max_sum, curr_sum)\n",
    "\n",
    "\n",
    "class MaxSubarraySumTest(unittest.TestCase):\n",
    "    \n",
    "    def test_max_subarray_sum(self):\n",
    "        case = collections.namedtuple('case', ['input','expected'])\n",
    "        cases = [\n",
    "            # All negative.\n",
    "            case([-1,-2,-3], 0),\n",
    "            # Random inputs.\n",
    "            case([34,-50,42,14,-5,86], 137),\n",
    "            case([-10,2,3,-2,0,5,-15], 8),\n",
    "            case([2,3,-2,-1,10], 12),\n",
    "            case([20,30,-70,40,20], 60),\n",
    "            case([-70,20,30,40,20], 110),\n",
    "            case([20,30,40,20,-70], 110),\n",
    "            case([20,-70,30,40,-10], 70),\n",
    "        ]\n",
    "        for c in cases:\n",
    "            rcv = max_subarray_sum(c.input)\n",
    "            self.assertEqual(rcv, c.expected)\n",
    "\n",
    "\n",
    "unittest.main(MaxSubarraySumTest(), argv=[''], verbosity=2, exit=False)"
   ]
  },
  {
   "cell_type": "markdown",
   "metadata": {},
   "source": [
    "## 1.4 Find number of smaller elements to the right"
   ]
  },
  {
   "cell_type": "markdown",
   "metadata": {},
   "source": [
    "### Problem Statement\n",
    "Given an array of integers, return an array containing the count of elements to the right of each element which are smaller in value."
   ]
  },
  {
   "cell_type": "code",
   "execution_count": 4,
   "metadata": {},
   "outputs": [
    {
     "name": "stderr",
     "output_type": "stream",
     "text": [
      "test_count_smaller (__main__.CountSmallerTest) ... ok\n",
      "\n",
      "----------------------------------------------------------------------\n",
      "Ran 1 test in 0.003s\n",
      "\n",
      "OK\n"
     ]
    },
    {
     "data": {
      "text/plain": [
       "<unittest.main.TestProgram at 0x7efdf8333320>"
      ]
     },
     "execution_count": 4,
     "metadata": {},
     "output_type": "execute_result"
    }
   ],
   "source": [
    "import collections\n",
    "import heapq\n",
    "import unittest\n",
    "\n",
    "\n",
    "def count_smaller(elems):\n",
    "    \"\"\"Return the count of smaller elements to right of each element.\"\"\"\n",
    "    assert not(len(elems) < 1), 'invalid: len(elems) < 1'\n",
    "        \n",
    "    # Iterate right-to-left adding each element to min heap.\n",
    "    #\n",
    "    # If the item added to the heap is not the minimum, then\n",
    "    # count the number of elements which are smaller by successively\n",
    "    # popping the minimum element from the heap.\n",
    "    counts, minheap = [0]*len(elems), [elems[-1]]\n",
    "    for ind in range(len(elems)-2,-1,-1):\n",
    "        if elems[ind] > minheap[0]:\n",
    "            stack = collections.deque()\n",
    "            while True:\n",
    "                stack.appendleft(heapq.heappop(minheap))\n",
    "                if len(minheap) < 1 or elems[ind] <= minheap[0]:\n",
    "                    break\n",
    "            counts[ind] = len(stack)\n",
    "            # Put the popped elements back on the heap.\n",
    "            while len(stack) > 0:\n",
    "                heapq.heappush(minheap, stack.popleft())\n",
    "        # Add the current element to the heap.\n",
    "        heapq.heappush(minheap, elems[ind])                    \n",
    "\n",
    "    return counts\n",
    "\n",
    "\n",
    "class CountSmallerTest(unittest.TestCase):\n",
    "    \n",
    "    def test_count_smaller(self):\n",
    "        case = collections.namedtuple('case', ['input','expected'])\n",
    "        cases = [\n",
    "            # Sorted.\n",
    "            case([1,2,3,4,5], [0,0,0,0,0]),\n",
    "            case([5,4,3,2,1], [4,3,2,1,0]),\n",
    "            # Random inputs.\n",
    "            case([3,4,9,6,1], [1,1,2,1,0]),\n",
    "            case([3,7,5,4,8,6], [0,3,1,0,1,0]),\n",
    "        ]\n",
    "        for c in cases:\n",
    "            rcv = count_smaller(c.input)\n",
    "            self.assertEqual(rcv, c.expected)\n",
    "\n",
    "\n",
    "unittest.main(CountSmallerTest(), argv=[''], verbosity=2, exit=False)"
   ]
  },
  {
   "cell_type": "code",
   "execution_count": null,
   "metadata": {},
   "outputs": [],
   "source": []
  }
 ],
 "metadata": {
  "kernelspec": {
   "display_name": "Python 3",
   "language": "python",
   "name": "python3"
  },
  "language_info": {
   "codemirror_mode": {
    "name": "ipython",
    "version": 3
   },
   "file_extension": ".py",
   "mimetype": "text/x-python",
   "name": "python",
   "nbconvert_exporter": "python",
   "pygments_lexer": "ipython3",
   "version": "3.6.9"
  }
 },
 "nbformat": 4,
 "nbformat_minor": 2
}
