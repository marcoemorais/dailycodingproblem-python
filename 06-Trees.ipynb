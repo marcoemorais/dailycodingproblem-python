{
 "cells": [
  {
   "cell_type": "markdown",
   "metadata": {},
   "source": [
    "# 6.0 Trees"
   ]
  },
  {
   "cell_type": "markdown",
   "metadata": {},
   "source": [
    "Add some common functions for representing binary trees and converting between binary trees and python lists."
   ]
  },
  {
   "cell_type": "code",
   "execution_count": 1,
   "metadata": {},
   "outputs": [],
   "source": [
    "import collections\n",
    "\n",
    "\n",
    "class TreeNode(object):\n",
    "    \"\"\"Node in a binary tree.\"\"\"\n",
    "    \n",
    "    def __init__(self, data, left=None, right=None):\n",
    "        self.data = data\n",
    "        self.left = left\n",
    "        self.right = right\n",
    "\n",
    "\n",
    "def make_binary_tree(elems):\n",
    "    \"\"\"Return a binary tree initialized from a python list.\"\"\"\n",
    "    \n",
    "    # Since this is a binary tree, there is no ordering wrt value.\n",
    "    # Values are inserted in level-order as they appear in the\n",
    "    # python list; starting at root and growing downward adding\n",
    "    # siblings from left-to-right.\n",
    "    root, queue = None, collections.deque()\n",
    "    for x in elems:\n",
    "        if len(queue) < 1:\n",
    "            root = TreeNode(x)\n",
    "            queue.append(root)\n",
    "            continue\n",
    "        node = queue[0]  # Access, but do not remove.\n",
    "        if node.left is None:\n",
    "            node.left = TreeNode(x)\n",
    "            queue.append(node.left)\n",
    "        elif node.right is None:\n",
    "            node.right = TreeNode(x)\n",
    "            queue.append(node.right)\n",
    "            queue.popleft()  # Remove node from queue.\n",
    "    \n",
    "    return root\n",
    "\n",
    "\n",
    "def make_list(root):\n",
    "    \"\"\"Return a python list initialized from binary tree.\"\"\"\n",
    "    \n",
    "    # Since this is a binary tree, there is no ordering wrt value.\n",
    "    # Values are inserted into python list in the order they appear\n",
    "    # during a level order traversal of the binary tree.\n",
    "    elems, queue = [], collections.deque([root])\n",
    "    while len(queue) > 0:\n",
    "        node = queue.popleft()\n",
    "        if node:\n",
    "            elems.append(node.data)\n",
    "            if node.left:\n",
    "                queue.append(node.left)\n",
    "            if node.right:\n",
    "                queue.append(node.right)\n",
    "    \n",
    "    return elems"
   ]
  },
  {
   "cell_type": "markdown",
   "metadata": {},
   "source": [
    "## 6.1 Count unival trees"
   ]
  },
  {
   "cell_type": "markdown",
   "metadata": {},
   "source": [
    "### Problem Statement\n",
    "Count the number of universal nodes in a binary tree.  A node is considered universal when any of the following is true:\n",
    "* Node is a leaf node.\n",
    "* All nodes below the current node have the same value.\n",
    "\n",
    "#### Examples\n",
    "Unival count: `5`\n",
    "```\n",
    "               0\n",
    "       1                0\n",
    "                    1       0\n",
    "                1       1\n",
    "```\n",
    "\n",
    "Unival count: `4`\n",
    "```\n",
    "               a\n",
    "       a                a\n",
    "                    a       a\n",
    "                               b\n",
    "                            b\n",
    "```\n",
    "\n",
    "Unival count: `2`\n",
    "```\n",
    "               a\n",
    "       b                c\n",
    "                    d\n",
    "```"
   ]
  },
  {
   "cell_type": "code",
   "execution_count": 2,
   "metadata": {},
   "outputs": [
    {
     "name": "stderr",
     "output_type": "stream",
     "text": [
      "test_count_unival_nodes (__main__.CountUnivalNodesTest) ... ok\n",
      "\n",
      "----------------------------------------------------------------------\n",
      "Ran 1 test in 0.003s\n",
      "\n",
      "OK\n"
     ]
    },
    {
     "data": {
      "text/plain": [
       "<unittest.main.TestProgram at 0x7f9794498cc0>"
      ]
     },
     "execution_count": 2,
     "metadata": {},
     "output_type": "execute_result"
    }
   ],
   "source": [
    "import collections\n",
    "import functools\n",
    "import unittest\n",
    "\n",
    "\n",
    "def is_universal(univals, node):\n",
    "    \"\"\"Return True when a node is a universal node.\"\"\"\n",
    "    is_leaf = node.left is None and node.right is None\n",
    "    lunival, runival = True, True\n",
    "    if node.left:\n",
    "        lunival = node.left in univals and node.left.data == node.data\n",
    "    if node.right:\n",
    "        runival = node.right in univals and node.right.data == node.data\n",
    "    return is_leaf or (lunival and runival)\n",
    "\n",
    "\n",
    "def count_unival_nodes_visitor(univals, node):\n",
    "    \"\"\"Visitor function that counts universal nodes.\"\"\"\n",
    "    if node.left:\n",
    "        count_unival_nodes_visitor(univals, node.left)\n",
    "    if node.right:\n",
    "        count_unival_nodes_visitor(univals, node.right)\n",
    "    if is_universal(univals, node):\n",
    "        univals.add(node)\n",
    "\n",
    "\n",
    "def count_unival_nodes(root):\n",
    "    \"\"\"Count the number of universal nodes in a binary tree.\"\"\"\n",
    "    \n",
    "    # Accumulate unival nodes during post-order traversal.\n",
    "    univals = set()\n",
    "    visitor_func = functools.partial(count_unival_nodes_visitor, \n",
    "                                     univals)\n",
    "    visitor_func(root)\n",
    "        \n",
    "    return len(univals)\n",
    "\n",
    "\n",
    "class CountUnivalNodesTest(unittest.TestCase):\n",
    "    \n",
    "    def setUp(self):\n",
    "        # Create treeA with unival count of 5.\n",
    "        self.treeA_expected = 5\n",
    "        self.treeA = TreeNode(0)\n",
    "        self.treeA.left = TreeNode(1)\n",
    "        self.treeA.right = TreeNode(0)\n",
    "        self.treeA.right.left = TreeNode(1)\n",
    "        self.treeA.right.right = TreeNode(0)\n",
    "        self.treeA.right.left.left = TreeNode(1)\n",
    "        self.treeA.right.left.right = TreeNode(1)\n",
    "        # Create treeB with unival count of 4.\n",
    "        self.treeB_expected = 4\n",
    "        self.treeB = TreeNode('a')\n",
    "        self.treeB.left = TreeNode('a')\n",
    "        self.treeB.right = TreeNode('a')\n",
    "        self.treeB.right.left = TreeNode('a')\n",
    "        self.treeB.right.right = TreeNode('a')\n",
    "        self.treeB.right.right.right = TreeNode('b')\n",
    "        self.treeB.right.right.right.left = TreeNode('b')\n",
    "        # Create treeC with unival count of 2.\n",
    "        self.treeC_expected = 2\n",
    "        self.treeC = TreeNode('a')\n",
    "        self.treeC.left = TreeNode('b')\n",
    "        self.treeC.right = TreeNode('c')\n",
    "        self.treeC.right.left = TreeNode('d')\n",
    "\n",
    "    def test_count_unival_nodes(self):\n",
    "        case = collections.namedtuple('case', ['input','expected'])\n",
    "        cases = [\n",
    "            case(self.treeA, self.treeA_expected),\n",
    "            case(self.treeB, self.treeB_expected),\n",
    "            case(self.treeC, self.treeC_expected),\n",
    "        ]\n",
    "        for c in cases:\n",
    "            rcv = count_unival_nodes(c.input)\n",
    "            self.assertEqual(rcv, c.expected)\n",
    "\n",
    "\n",
    "unittest.main(CountUnivalNodesTest(), argv=[''], verbosity=2, exit=False)"
   ]
  },
  {
   "cell_type": "markdown",
   "metadata": {},
   "source": [
    "## 6.2 Reconstruct tree from traversals"
   ]
  },
  {
   "cell_type": "markdown",
   "metadata": {},
   "source": [
    "### Problem Statement\n",
    "Reconstruct the binary tree from a list of nodes returned from the pre-order and in-order traversals."
   ]
  },
  {
   "cell_type": "code",
   "execution_count": 3,
   "metadata": {},
   "outputs": [
    {
     "name": "stderr",
     "output_type": "stream",
     "text": [
      "test_make_tree_from_traversals (__main__.MakeTreeFromTraversalsTest) ... ok\n",
      "\n",
      "----------------------------------------------------------------------\n",
      "Ran 1 test in 0.004s\n",
      "\n",
      "OK\n"
     ]
    },
    {
     "data": {
      "text/plain": [
       "<unittest.main.TestProgram at 0x7f9794455278>"
      ]
     },
     "execution_count": 3,
     "metadata": {},
     "output_type": "execute_result"
    }
   ],
   "source": [
    "import collections\n",
    "import unittest\n",
    "\n",
    "\n",
    "def make_tree_from_traversals(preorder, inorder):\n",
    "    \"\"\"Reconstruct a binary tree from preorder and inorder traversals.\"\"\"\n",
    "    if len(preorder) < 1:\n",
    "        return None\n",
    "    # Root node is the first element in the preorder traversal.\n",
    "    # All root's left children are left of root in inorder traversal.\n",
    "    # All root's right children are right of root in inorder traversal.\n",
    "    root = TreeNode(preorder[0])\n",
    "    # Root's left child is right of root in preorder traversal.\n",
    "    left_preorder_ind = 1\n",
    "    # Root's right child in preorder traversal is found by adding\n",
    "    # the number of nodes in the left subtree to the left child index.\n",
    "    root_inorder_ind = inorder.index(root.data)  # Count in left subtree.\n",
    "    right_preorder_ind = left_preorder_ind + root_inorder_ind\n",
    "    root.left = make_tree_from_traversals(\n",
    "        preorder[left_preorder_ind:right_preorder_ind],\n",
    "        inorder[:root_inorder_ind])\n",
    "    root.right = make_tree_from_traversals(\n",
    "        preorder[right_preorder_ind:],\n",
    "        inorder[root_inorder_ind+1:])\n",
    "    return root\n",
    "\n",
    "\n",
    "class MakeTreeFromTraversalsTest(unittest.TestCase):\n",
    "    \n",
    "    def setUp(self):\n",
    "        # Create treeA.\n",
    "        self.treeA_preorder = ['a','b','d','e','c','f','g']\n",
    "        self.treeA_inorder = ['d','b','e','a','f','c','g']\n",
    "        self.treeA = TreeNode('a')\n",
    "        self.treeA.left = TreeNode('b')\n",
    "        self.treeA.left.left = TreeNode('d')\n",
    "        self.treeA.left.right = TreeNode('e')\n",
    "        self.treeA.right = TreeNode('c')\n",
    "        self.treeA.right.left = TreeNode('f')\n",
    "        self.treeA.right.right = TreeNode('g')\n",
    "        # Create treeB.\n",
    "        self.treeB_preorder = [1,2,4,3,5]\n",
    "        self.treeB_inorder = [4,2,1,3,5]\n",
    "        self.treeB = TreeNode(1)\n",
    "        self.treeB.left = TreeNode(2)\n",
    "        self.treeB.left.left = TreeNode(4)\n",
    "        self.treeB.right = TreeNode(3)\n",
    "        self.treeB.right.right = TreeNode(5)\n",
    "        # Create treeC.\n",
    "        self.treeC_preorder = [1,2,3,4,5,7,6]\n",
    "        self.treeC_inorder = [2,3,1,5,7,4,6]\n",
    "        self.treeC = TreeNode(1)\n",
    "        self.treeC.left = TreeNode(2)\n",
    "        self.treeC.left.right = TreeNode(3)\n",
    "        self.treeC.right = TreeNode(4)\n",
    "        self.treeC.right.left = TreeNode(5)\n",
    "        self.treeC.right.left.right = TreeNode(7)\n",
    "        self.treeC.right.right = TreeNode(6)\n",
    "\n",
    "    def test_make_tree_from_traversals(self):\n",
    "        case = collections.namedtuple('case', \n",
    "                                      ['preorder','inorder','expected'])\n",
    "        cases = [\n",
    "            case(self.treeA_preorder, self.treeA_inorder, self.treeA),\n",
    "            case(self.treeB_preorder, self.treeB_inorder, self.treeB),\n",
    "            case(self.treeC_preorder, self.treeC_inorder, self.treeC),\n",
    "        ]\n",
    "        for c in cases:\n",
    "            rcv = make_tree_from_traversals(c.preorder, c.inorder)            \n",
    "            self.assertEqual(make_list(rcv), make_list(c.expected))\n",
    "\n",
    "\n",
    "unittest.main(MakeTreeFromTraversalsTest(), argv=[''], verbosity=2, \n",
    "              exit=False)"
   ]
  },
  {
   "cell_type": "markdown",
   "metadata": {},
   "source": [
    "## 6.3 Evaluate arithmetic tree"
   ]
  },
  {
   "cell_type": "markdown",
   "metadata": {},
   "source": [
    "### Problem Statement\n",
    "Implement a function for evaluating a [binary expression tree](https://en.wikipedia.org/wiki/Binary_expression_tree).\n",
    "\n",
    "binary expression tree (def.)\n",
    "> Leaf nodes in a binary expression tree consist of one or more operands and non-leaf nodes consist of operators."
   ]
  },
  {
   "cell_type": "code",
   "execution_count": 4,
   "metadata": {},
   "outputs": [
    {
     "name": "stderr",
     "output_type": "stream",
     "text": [
      "test_evaluate_expression_tree (__main__.EvaluateExpressionTreeTest) ... ok\n",
      "\n",
      "----------------------------------------------------------------------\n",
      "Ran 1 test in 0.004s\n",
      "\n",
      "OK\n"
     ]
    },
    {
     "data": {
      "text/plain": [
       "<unittest.main.TestProgram at 0x7f9794534828>"
      ]
     },
     "execution_count": 4,
     "metadata": {},
     "output_type": "execute_result"
    }
   ],
   "source": [
    "import collections\n",
    "import unittest\n",
    "\n",
    "\n",
    "def evaluate_expression_tree(node):\n",
    "    \"\"\"Evaluate the binary expression tree.\"\"\"\n",
    "    if node.left is None and node.right is None:\n",
    "        return node.data  # Operand.\n",
    "    # Recursively evaluate the subtrees via post-order traversal.\n",
    "    lhs = evaluate_expression_tree(node.left) if node.left else 0\n",
    "    rhs = evaluate_expression_tree(node.right) if node.right else 0\n",
    "    if node.data == '+':\n",
    "        return lhs + rhs\n",
    "    elif node.data == '-':\n",
    "        return lhs - rhs\n",
    "    elif node.data == '*':\n",
    "        return lhs * rhs\n",
    "    elif node.data == '/':\n",
    "        return lhs / rhs\n",
    "    else:\n",
    "        raise ValueError('invalid operator: {0}'.format(node.data))\n",
    "\n",
    "\n",
    "class EvaluateExpressionTreeTest(unittest.TestCase):\n",
    "    \n",
    "    def setUp(self):\n",
    "        # Create treeA.\n",
    "        self.treeA_expected = 13\n",
    "        self.treeA = TreeNode('+')\n",
    "        self.treeA.left = TreeNode('*')\n",
    "        self.treeA.left.left = TreeNode('+')\n",
    "        self.treeA.left.left.left = TreeNode(1)\n",
    "        self.treeA.left.left.right = TreeNode(2)\n",
    "        self.treeA.left.right = TreeNode(3)\n",
    "        self.treeA.right = TreeNode(4)\n",
    "        # Create treeB.\n",
    "        self.treeB_expected = 45\n",
    "        self.treeB = TreeNode('*')\n",
    "        self.treeB.left = TreeNode('+')\n",
    "        self.treeB.left.left = TreeNode(3)\n",
    "        self.treeB.left.right = TreeNode(2)\n",
    "        self.treeB.right = TreeNode('+')\n",
    "        self.treeB.right.left = TreeNode(4)\n",
    "        self.treeB.right.right = TreeNode(5)\n",
    "\n",
    "    def test_evaluate_expression_tree(self):\n",
    "        case = collections.namedtuple('case', ['input','expected'])\n",
    "        cases = [\n",
    "            case(self.treeA, self.treeA_expected),\n",
    "            case(self.treeB, self.treeB_expected),\n",
    "        ]\n",
    "        for c in cases:\n",
    "            rcv = evaluate_expression_tree(c.input)\n",
    "            self.assertEqual(rcv, c.expected)\n",
    "\n",
    "\n",
    "unittest.main(EvaluateExpressionTreeTest(), argv=[''], verbosity=2, \n",
    "              exit=False)"
   ]
  },
  {
   "cell_type": "markdown",
   "metadata": {},
   "source": [
    "## 6.4 Get tree level with minimum sum"
   ]
  },
  {
   "cell_type": "markdown",
   "metadata": {},
   "source": [
    "### Problem Statement\n",
    "Given a binary tree of integers, find the level in the tree having the minimum sum and return both level and sum.\n",
    "\n",
    "#### Examples\n",
    "Minimum sum is `1` at level `2`.\n",
    "```\n",
    "\t\t\t3\n",
    "\t-3\t\t\t\t7\n",
    "-10\t\t-2\t\t5\t\t8\n",
    "```"
   ]
  },
  {
   "cell_type": "code",
   "execution_count": 5,
   "metadata": {},
   "outputs": [
    {
     "name": "stderr",
     "output_type": "stream",
     "text": [
      "test_solution (__main__.LevelWithMinimumSumTest) ... ok\n",
      "\n",
      "----------------------------------------------------------------------\n",
      "Ran 1 test in 0.005s\n",
      "\n",
      "OK\n"
     ]
    },
    {
     "data": {
      "text/plain": [
       "<unittest.main.TestProgram at 0x7f979445a0b8>"
      ]
     },
     "execution_count": 5,
     "metadata": {},
     "output_type": "execute_result"
    }
   ],
   "source": [
    "import collections\n",
    "import unittest\n",
    "\n",
    "\n",
    "def level_with_minimum_sum(root):\n",
    "    \"\"\"Return the level in the tree having the minimum sum.\"\"\"\n",
    "    assert not(root is None), 'invalid: root is None'\n",
    "    \n",
    "    # Perform a level order traversal accumulating the sum of\n",
    "    # values at each level.  Recognize transitions between levels\n",
    "    # by recording the level at the time a node inserted into queue.\n",
    "    best, level, minsum = None, 0, 0\n",
    "    queue = collections.deque([(root, level)])\n",
    "    while len(queue) > 0:\n",
    "        (node, nodelevel) = queue.popleft()\n",
    "        if nodelevel != level:  # Level transition.\n",
    "            best = (level, minsum) \\\n",
    "                if best is None or minsum < best[1] else best\n",
    "            level, minsum = nodelevel, node.data\n",
    "        else:\n",
    "            minsum += node.data\n",
    "        if node.left:\n",
    "            queue.append((node.left, level+1))\n",
    "        if node.right:\n",
    "            queue.append((node.right, level+1))\n",
    "\n",
    "    # Handle transition for the last node in the tree.\n",
    "    best = (level, minsum) if best is None or minsum < best[1] else best\n",
    "\n",
    "    return best\n",
    "\n",
    "\n",
    "class LevelWithMinimumSumTest(unittest.TestCase):\n",
    "\n",
    "    def test_solution(self):\n",
    "        case = collections.namedtuple('case', ['input','expected'])\n",
    "        cases = [\n",
    "            # Edge case: one-node tree.\n",
    "            case([-10], (0,-10)),\n",
    "            # 3-level tree, level 0 is minimum.\n",
    "            case([1,-4,7,-6,-2,5,8], (0,1)),\n",
    "            # 3-level tree, level 1 is minimum.\n",
    "            case([3,-6,7,-7,-2,5,8], (1,1)),\n",
    "            # 3-level tree, level 2 is minimum.\n",
    "            case([3,-3,7,-10,-2,5,8], (2,1)),\n",
    "            # 4-level tree, last level is partial and minimum.\n",
    "            case([3,-3,7,-10,-2,5,8,-20], (3,-20)),\n",
    "        ]\n",
    "        for c in cases:\n",
    "            tree = make_binary_tree(c.input)\n",
    "            rcv = level_with_minimum_sum(tree)\n",
    "            self.assertEqual(rcv, c.expected)\n",
    "\n",
    "\n",
    "unittest.main(LevelWithMinimumSumTest(), argv=[''], verbosity=2, \n",
    "              exit=False)"
   ]
  },
  {
   "cell_type": "code",
   "execution_count": null,
   "metadata": {},
   "outputs": [],
   "source": []
  }
 ],
 "metadata": {
  "kernelspec": {
   "display_name": "Python 3",
   "language": "python",
   "name": "python3"
  },
  "language_info": {
   "codemirror_mode": {
    "name": "ipython",
    "version": 3
   },
   "file_extension": ".py",
   "mimetype": "text/x-python",
   "name": "python",
   "nbconvert_exporter": "python",
   "pygments_lexer": "ipython3",
   "version": "3.6.9"
  }
 },
 "nbformat": 4,
 "nbformat_minor": 2
}
