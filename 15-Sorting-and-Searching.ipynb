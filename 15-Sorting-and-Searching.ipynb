{
 "cells": [
  {
   "cell_type": "markdown",
   "metadata": {},
   "source": [
    "# 15.0 Sorting and Searching"
   ]
  },
  {
   "cell_type": "markdown",
   "metadata": {},
   "source": [
    "## 15.1 Dutch Flag Problem\n",
    "\n",
    "### Problem Statement\n",
    "Given an array of 3 distinct values, partition the array such that the values appear in sorted order using only a single pass through the array and no additional storage."
   ]
  },
  {
   "cell_type": "code",
   "execution_count": 1,
   "metadata": {},
   "outputs": [
    {
     "name": "stderr",
     "output_type": "stream",
     "text": [
      "test_dutchflag (__main__.DutchflagTest) ... ok\n",
      "\n",
      "----------------------------------------------------------------------\n",
      "Ran 1 test in 0.003s\n",
      "\n",
      "OK\n"
     ]
    },
    {
     "data": {
      "text/plain": [
       "<unittest.main.TestProgram at 0x7f202c66de80>"
      ]
     },
     "execution_count": 1,
     "metadata": {},
     "output_type": "execute_result"
    }
   ],
   "source": [
    "from collections import namedtuple\n",
    "import unittest\n",
    "\n",
    "\n",
    "def dutchflag(elems, values=('r','g','b')):\n",
    "    \"\"\"Sort the array of 3 values using a single pass through the array.\"\"\"\n",
    "    assert len(values) == 3, 'invalid: len(values) != 3'\n",
    "    assert not(len(elems) < 1), 'invalid: len(elems) < 1'\n",
    "    \n",
    "    # Maintain 3 pointers.\n",
    "    # p1 points to the first element of the second value.\n",
    "    # p2 points to the first unpartitioned element.\n",
    "    # p3 points to the first element of the third value.\n",
    "    p1, p2, p3 = 0, 0, len(elems)\n",
    "    while p2 != p3:\n",
    "        if elems[p2] == values[0]:\n",
    "            # Swap the values at p1 and p2.\n",
    "            elems[p1], elems[p2] = elems[p2], elems[p1]\n",
    "            # Increment p1 and p2.\n",
    "            p1, p2 = p1+1, p2+1\n",
    "        elif elems[p2] == values[1]:\n",
    "            # No swap required.\n",
    "            p2 += 1\n",
    "        else:  # elems[p2] == values[2].\n",
    "            # Decrement p3 and partition p2 in next iteration.\n",
    "            p3 -= 1\n",
    "            # Swap the values at p2 and p3.\n",
    "            elems[p2], elems[p3] = elems[p3], elems[p2]\n",
    "\n",
    "\n",
    "class DutchflagTest(unittest.TestCase):\n",
    "\n",
    "    def test_dutchflag(self):\n",
    "        case = namedtuple('case', ['input', 'expected'])\n",
    "        cases = [\n",
    "            # Edge cases.\n",
    "            case(list('r'), list('r')),\n",
    "            case(list('g'), list('g')),\n",
    "            case(list('b'), list('b')),\n",
    "            # 2 of 3 values.\n",
    "            case(list('rg'), list('rg')),\n",
    "            case(list('rb'), list('rb')),\n",
    "            case(list('gr'), list('rg')),\n",
    "            case(list('gb'), list('gb')),\n",
    "            case(list('br'), list('rb')),\n",
    "            case(list('bg'), list('gb')),\n",
    "            # Random.\n",
    "            case(list('gbrrbrb'), list('rrrgbbb')),\n",
    "            case(list('gbrgggggbb'), list('rggggggbbb')),\n",
    "            case(list('bbrggbrgbb'), list('rrgggbbbbb')),\n",
    "            case(list('gbgbgbbrrr'), list('rrrgggbbbb')),\n",
    "            case(list('grgrgrrrgb'), list('rrrrrggggb')),\n",
    "            case(list('grgrgbrrgg'), list('rrrrgggggb')),\n",
    "            case(list('rggrg'), list('rrggg')),\n",
    "            case(list('bbggbgbb'), list('gggbbbbb')),\n",
    "            case(list('bbrbrbb'), list('rrbbbbb')),\n",
    "        ]\n",
    "        for c in cases:\n",
    "            cpin = c.input[:]\n",
    "            dutchflag(cpin)\n",
    "            self.assertEqual(cpin, c.expected)\n",
    "\n",
    "\n",
    "unittest.main(DutchflagTest(), argv=[''], verbosity=2, exit=False)"
   ]
  },
  {
   "cell_type": "code",
   "execution_count": null,
   "metadata": {},
   "outputs": [],
   "source": []
  }
 ],
 "metadata": {
  "kernelspec": {
   "display_name": "Python 3",
   "language": "python",
   "name": "python3"
  },
  "language_info": {
   "codemirror_mode": {
    "name": "ipython",
    "version": 3
   },
   "file_extension": ".py",
   "mimetype": "text/x-python",
   "name": "python",
   "nbconvert_exporter": "python",
   "pygments_lexer": "ipython3",
   "version": "3.6.9"
  }
 },
 "nbformat": 4,
 "nbformat_minor": 2
}
