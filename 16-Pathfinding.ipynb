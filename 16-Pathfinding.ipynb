{
 "cells": [
  {
   "cell_type": "markdown",
   "metadata": {},
   "source": [
    "# 16.0 Pathfinding"
   ]
  },
  {
   "cell_type": "markdown",
   "metadata": {},
   "source": [
    "## 16.1 Dijkstra's algorithm\n",
    "\n",
    "### Problem Statement\n",
    "Given a weighted graph, find the shortest path from a start vertex to all other vertices in the graph."
   ]
  },
  {
   "cell_type": "code",
   "execution_count": 1,
   "metadata": {},
   "outputs": [
    {
     "name": "stderr",
     "output_type": "stream",
     "text": [
      "test_dijkstra (__main__.DijkstraTest) ... ok\n",
      "\n",
      "----------------------------------------------------------------------\n",
      "Ran 1 test in 0.003s\n",
      "\n",
      "OK\n"
     ]
    },
    {
     "data": {
      "text/plain": [
       "<unittest.main.TestProgram at 0x7fd81861a668>"
      ]
     },
     "execution_count": 1,
     "metadata": {},
     "output_type": "execute_result"
    }
   ],
   "source": [
    "from collections import defaultdict, deque, namedtuple\n",
    "import unittest\n",
    "\n",
    "\n",
    "class Graph(object):\n",
    "    \"\"\"Adjacency list representation of a graph.\"\"\"\n",
    "    \n",
    "    def __init__(self):\n",
    "        # Use a min-heap if searching for the shortest \n",
    "        # path to a specific destination vertex.\n",
    "        self.vertices = defaultdict(list)\n",
    "\n",
    "    def add_edge(self, v, w, weight, directed=True):\n",
    "        self.vertices[v].append((w, weight))\n",
    "        if directed is False:\n",
    "            self.add_edge(w, v, weight, directed=True)\n",
    "        elif w not in self.vertices:\n",
    "            self.vertices[w] = []\n",
    "\n",
    "\n",
    "def make_graph(pairs, directed=True):\n",
    "    \"\"\"Return a graph from a list of vertices and their weights.\"\"\"\n",
    "    \n",
    "    g = Graph()\n",
    "    for v, w, weight in pairs:\n",
    "        g.add_edge(v, w, weight, directed=directed)\n",
    "    return g\n",
    "\n",
    "\n",
    "def dijkstra(graph, start):\n",
    "    \"\"\"Use dijkstra's algorithm to compute shortest path from start.\"\"\"\n",
    "\n",
    "    # There are multiple variants of this problem.\n",
    "    # For finding shortest path to specific destination vertex,\n",
    "    # then terminate the traversal when that vertex is reached.\n",
    "    # For the variant shown here, we find the shortest path from\n",
    "    # start vertex to every other vertex in the graph.\n",
    "\n",
    "    # dist holds the shortest distance to a vertex from start.\n",
    "    # parents holds the incoming vertex along the shortest path.\n",
    "    dist, parents = {start: 0}, {start: start}\n",
    "    queue = deque([start])\n",
    "\n",
    "    # Perform a breadth-first search through the graph finding\n",
    "    # the shortest path from start to every other vertex.\n",
    "    while len(queue) > 0:\n",
    "        v = queue.popleft()\n",
    "        for w, weight in graph.vertices[v]:\n",
    "            if w not in dist or dist[v] + weight < dist[w]:\n",
    "                dist[w] = dist[v] + weight\n",
    "                parents[w] = v\n",
    "                queue.append(w)\n",
    "\n",
    "    return dist, parents\n",
    "\n",
    "\n",
    "class DijkstraTest(unittest.TestCase):\n",
    "    \n",
    "    def test_dijkstra(self):\n",
    "        case = namedtuple('case', ['edges', 'directed', 'start',\n",
    "                                   'expected'])\n",
    "        cases = [\n",
    "            case([(0,1,5),(0,2,3),(0,5,4),(1,3,8),(2,3,1),\n",
    "                  (3,5,10),(3,4,5)], True, 0, \n",
    "                 ({0:0, 1:5, 2:3, 3:4, 4:9, 5: 4},\n",
    "                  {0:0, 1:0, 2:0, 3:2, 4:3, 5:0})),\n",
    "            case([(1,2,7),(1,3,9),(1,6,14),(2,4,15),(2,3,10),\n",
    "                  (3,6,2),(3,4,11),(4,5,6),(5,6,9)], False, 1,\n",
    "                 ({1:0, 2:7, 3:9, 4:20, 5:20, 6:11},\n",
    "                  {1:1, 2:1, 3:1, 4:3, 5:6, 6:3})),\n",
    "        ]\n",
    "        for c in cases:\n",
    "            g = make_graph(c.edges, directed=c.directed)\n",
    "            rcv = dijkstra(g, c.start)\n",
    "            self.assertEqual(rcv, c.expected)\n",
    "\n",
    "\n",
    "unittest.main(DijkstraTest(), argv=[''], verbosity=2, exit=False)"
   ]
  },
  {
   "cell_type": "code",
   "execution_count": null,
   "metadata": {},
   "outputs": [],
   "source": []
  }
 ],
 "metadata": {
  "kernelspec": {
   "display_name": "Python 3",
   "language": "python",
   "name": "python3"
  },
  "language_info": {
   "codemirror_mode": {
    "name": "ipython",
    "version": 3
   },
   "file_extension": ".py",
   "mimetype": "text/x-python",
   "name": "python",
   "nbconvert_exporter": "python",
   "pygments_lexer": "ipython3",
   "version": "3.6.9"
  }
 },
 "nbformat": 4,
 "nbformat_minor": 2
}
