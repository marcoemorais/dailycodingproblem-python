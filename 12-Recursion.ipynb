{
 "cells": [
  {
   "cell_type": "markdown",
   "metadata": {},
   "source": [
    "# 12.0 Recursion"
   ]
  },
  {
   "cell_type": "markdown",
   "metadata": {},
   "source": [
    "## 12.1 Towers of Hanoi\n",
    "\n",
    "### Problem Statement\n",
    "Imagine 3 rods with $n$ discs of increasing diameter stacked on the first rod.  Write a function that moves all $n$ discs from the first rod to a goal rod according to the following rules:\n",
    "* A disc moves from the top of one rod to the top of another rod.\n",
    "* A smaller disc can only be placed on top of a wider disc.\n",
    "* Only 1 disc can be moved at a time.\n",
    "\n",
    "The solution should be returned as a list of tuples of $(d, r_s, r_d)$ where:\n",
    "* $d$ is the diameter of the disc to move\n",
    "* $r_s$ and $r_d$ are the source and destination rods respectively"
   ]
  },
  {
   "cell_type": "code",
   "execution_count": 1,
   "metadata": {},
   "outputs": [
    {
     "name": "stderr",
     "output_type": "stream",
     "text": [
      "test_towers_of_hanoi (__main__.TowersOfHanoiTest) ... ok\n",
      "\n",
      "----------------------------------------------------------------------\n",
      "Ran 1 test in 0.009s\n",
      "\n",
      "OK\n"
     ]
    },
    {
     "data": {
      "text/plain": [
       "<unittest.main.TestProgram at 0x7fcd686aa470>"
      ]
     },
     "execution_count": 1,
     "metadata": {},
     "output_type": "execute_result"
    }
   ],
   "source": [
    "from collections import deque, namedtuple\n",
    "import unittest\n",
    "\n",
    "\n",
    "def make_rods(n):\n",
    "    \"\"\"Return rods initialized with n discs.\"\"\"\n",
    "    rods = [deque(), deque(), deque()]\n",
    "    for d in range(n,0,-1):\n",
    "        rods[0].appendleft(d)\n",
    "    return rods\n",
    "\n",
    "\n",
    "def rod_index(rods, d):\n",
    "    \"\"\"Return rod index containing d as topmost disc or None.\"\"\"\n",
    "    for ind, rod in enumerate(rods):\n",
    "        if len(rod) > 0 and rod[0] == d:\n",
    "            return ind\n",
    "    return None\n",
    "\n",
    "\n",
    "def move(rods, rs, rd):\n",
    "    \"\"\"Move topmost disc from rs to rd.\"\"\"\n",
    "    rods[rd].appendleft(rods[rs].popleft())\n",
    "\n",
    "\n",
    "def towers_of_hanoi(rods, n, right=True):\n",
    "    \"\"\"Return the solution tuple for the towers of hanoi with n discs.\"\"\"\n",
    "\n",
    "    moves = []\n",
    "    if n < 1:\n",
    "        return moves\n",
    "\n",
    "    # Move all smaller discs (<n) to some other rod.\n",
    "    moves.extend(towers_of_hanoi(rods, n-1, not(right)))\n",
    "\n",
    "    # Move the nth disc to the goal rod.\n",
    "    # Goal rod rotates left or rotate at each level of recursion.\n",
    "    rs = rod_index(rods, n)\n",
    "    rd = (rs+1)%len(rods) if right else (rs-1)%len(rods)\n",
    "    move(rods, rs, rd)\n",
    "    moves.append((n, rs, rd))\n",
    "\n",
    "    # Move all smaller discs back to the goal rod.\n",
    "    moves.extend(towers_of_hanoi(rods, n-1, not(right)))\n",
    "\n",
    "    return moves\n",
    "\n",
    "\n",
    "class TowersOfHanoiTest(unittest.TestCase):\n",
    "\n",
    "    def test_towers_of_hanoi(self):\n",
    "        case = namedtuple('case', ['n','expected'])\n",
    "        cases = [\n",
    "            # Edge cases.\n",
    "            case(0, []),\n",
    "            case(1, [(1,0,1)]),\n",
    "            case(2, [(1,0,2),(2,0,1),(1,2,1)]),\n",
    "            # Standard case: 3 discs.\n",
    "            case(3, [(1,0,1),(2,0,2),\n",
    "                     (1,1,2),(3,0,1),\n",
    "                     (1,2,0),(2,2,1),\n",
    "                     (1,0,1)]),\n",
    "            # 4 discs = f(3 discs) + 4 + f(3 discs).\n",
    "            case(4, [(1,0,2),(2,0,1),\n",
    "                     (1,2,1),(3,0,2),\n",
    "                     (1,1,0),(2,1,2),\n",
    "                     (1,0,2),\n",
    "                     (4,0,1),(1,2,1),\n",
    "                     (2,2,0),(1,1,0),\n",
    "                     (3,2,1),(1,0,2),\n",
    "                     (2,0,1),(1,2,1)]),\n",
    "        ]\n",
    "        for c in cases:\n",
    "            rods = make_rods(c.n)\n",
    "            rcv = towers_of_hanoi(rods, c.n)\n",
    "            self.assertEqual(rcv, c.expected)\n",
    "\n",
    "\n",
    "unittest.main(TowersOfHanoiTest(), argv=[''], verbosity=2, exit=False)"
   ]
  },
  {
   "cell_type": "code",
   "execution_count": null,
   "metadata": {},
   "outputs": [],
   "source": []
  }
 ],
 "metadata": {
  "kernelspec": {
   "display_name": "Python 3",
   "language": "python",
   "name": "python3"
  },
  "language_info": {
   "codemirror_mode": {
    "name": "ipython",
    "version": 3
   },
   "file_extension": ".py",
   "mimetype": "text/x-python",
   "name": "python",
   "nbconvert_exporter": "python",
   "pygments_lexer": "ipython3",
   "version": "3.6.9"
  }
 },
 "nbformat": 4,
 "nbformat_minor": 2
}
