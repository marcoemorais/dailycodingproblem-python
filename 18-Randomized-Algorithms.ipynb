{
 "cells": [
  {
   "cell_type": "markdown",
   "metadata": {},
   "source": [
    "# 18.0 Randomized Algorithms"
   ]
  },
  {
   "cell_type": "markdown",
   "metadata": {},
   "source": [
    "## 18.1 Pick a random element from an infinite stream\n",
    "\n",
    "### Problem Statement\n",
    "Given a stream of elements too large to store in memory pick a random element from the stream with uniform probability."
   ]
  },
  {
   "cell_type": "code",
   "execution_count": 1,
   "metadata": {},
   "outputs": [
    {
     "name": "stderr",
     "output_type": "stream",
     "text": [
      "test_reservoir_sample (__main__.ReservoirSampleTest) ... ok\n",
      "\n",
      "----------------------------------------------------------------------\n",
      "Ran 1 test in 0.342s\n",
      "\n",
      "OK\n"
     ]
    },
    {
     "data": {
      "text/plain": [
       "<unittest.main.TestProgram at 0x7fbbfc249710>"
      ]
     },
     "execution_count": 1,
     "metadata": {},
     "output_type": "execute_result"
    }
   ],
   "source": [
    "from collections import defaultdict, namedtuple\n",
    "import random\n",
    "import unittest\n",
    "\n",
    "\n",
    "def reservoir_sample(iterable, k=1):\n",
    "    \"\"\"Use reservoir sampling to pick k random elements from stream.\"\"\"\n",
    "\n",
    "    # Fill the reservoir with first k elements from iterable.\n",
    "    randx, n = [], 1\n",
    "    while n <= k:\n",
    "        randx.append(next(iterable))\n",
    "        n += 1\n",
    "    \n",
    "    # Replace an element in the reservoir with 1/n probability.\n",
    "    for x in iterable:\n",
    "        rind = random.randint(1, n)\n",
    "        if rind <= k:\n",
    "            randx[rind-1] = x\n",
    "        n += 1\n",
    "\n",
    "    return randx\n",
    "\n",
    "\n",
    "class ReservoirSampleTest(unittest.TestCase):\n",
    "    \n",
    "    def setUp(self):\n",
    "        # Seed random number generator for predictable results. \n",
    "        random.seed(13)\n",
    "\n",
    "    def test_reservoir_sample(self):\n",
    "        case = namedtuple('case', ['nsamples','xmin','xmax','k',\n",
    "                                   'expected'])\n",
    "        cases = [\n",
    "            # Reservoir size k=1.\n",
    "            case(10000, 1, 10, 1,\n",
    "                {1:0.1009, 2:0.1023, 3:0.1008, 4:0.0955, 5:0.1059,\n",
    "                 6:0.0978, 7:0.0986, 8:0.1018, 9:0.096, 10:0.1004}),\n",
    "            # Reservoir size k=2.\n",
    "            case(10000, 1, 10, 2,\n",
    "                {1:0.1968, 2:0.2016, 3:0.2055, 4:0.2088, 5:0.1989,\n",
    "                 6:0.1957, 7:0.2033, 8:0.1992, 9:0.1865, 10:0.2037}),\n",
    "        ]\n",
    "        for c in cases:\n",
    "            cnt = defaultdict(int)\n",
    "            for _ in range(c.nsamples):\n",
    "                xiter = iter(range(c.xmin, c.xmax+1))\n",
    "                randx = reservoir_sample(xiter, k=c.k)\n",
    "                for x in randx:\n",
    "                    cnt[x] += 1\n",
    "            rcv = {k:v/c.nsamples for k, v in cnt.items()}\n",
    "            self.assertEqual(rcv, c.expected)\n",
    "\n",
    "\n",
    "unittest.main(ReservoirSampleTest(), argv=[''], verbosity=2, exit=False)"
   ]
  },
  {
   "cell_type": "code",
   "execution_count": null,
   "metadata": {},
   "outputs": [],
   "source": []
  }
 ],
 "metadata": {
  "kernelspec": {
   "display_name": "Python 3",
   "language": "python",
   "name": "python3"
  },
  "language_info": {
   "codemirror_mode": {
    "name": "ipython",
    "version": 3
   },
   "file_extension": ".py",
   "mimetype": "text/x-python",
   "name": "python",
   "nbconvert_exporter": "python",
   "pygments_lexer": "ipython3",
   "version": "3.6.9"
  }
 },
 "nbformat": 4,
 "nbformat_minor": 2
}
