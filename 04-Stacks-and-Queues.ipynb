{
 "cells": [
  {
   "cell_type": "markdown",
   "metadata": {},
   "source": [
    "# 4.0 Stacks and Queues"
   ]
  },
  {
   "cell_type": "markdown",
   "metadata": {},
   "source": [
    "## 4.1 Implement a max stack"
   ]
  },
  {
   "cell_type": "markdown",
   "metadata": {},
   "source": [
    "### Problem Statement\n",
    "Implement a stack which adds a constant time `max()` operation to the standard stack interface of `push()` and `pop()`."
   ]
  },
  {
   "cell_type": "code",
   "execution_count": 1,
   "metadata": {},
   "outputs": [
    {
     "name": "stderr",
     "output_type": "stream",
     "text": [
      "test_max_stack (__main__.MaxStackTest) ... ok\n",
      "\n",
      "----------------------------------------------------------------------\n",
      "Ran 1 test in 0.002s\n",
      "\n",
      "OK\n"
     ]
    },
    {
     "data": {
      "text/plain": [
       "<unittest.main.TestProgram at 0x7fe220102898>"
      ]
     },
     "execution_count": 1,
     "metadata": {},
     "output_type": "execute_result"
    }
   ],
   "source": [
    "import collections\n",
    "import unittest\n",
    "\n",
    "\n",
    "class MaxStack(object):\n",
    "    \"\"\"Stack with support for constant time access to maximum element.\"\"\"\n",
    "\n",
    "    def __init__(self):\n",
    "        self.stack = collections.deque()\n",
    "    \n",
    "    def push(self, x):\n",
    "        # Entries in the stack record both element and max so far.\n",
    "        maxx = max(x, self.stack[-1][1]) if len(self.stack) > 0 else x\n",
    "        self.stack.append((x, maxx))  # Stack holds tuple of (x, maxx).\n",
    "\n",
    "    def pop(self):\n",
    "        if len(self.stack) > 0:\n",
    "            return self.stack.pop()[0]\n",
    "        raise IndexError('pop invalid: empty stack')\n",
    "    \n",
    "    def peek(self):\n",
    "        if len(self.stack) > 0:\n",
    "            return self.stack[-1][0]\n",
    "        raise IndexError('peek invalid: empty stack')\n",
    "        \n",
    "    def max(self):\n",
    "        if len(self.stack) > 0:\n",
    "            return self.stack[-1][1]\n",
    "        raise IndexError('max invald: empty stack')\n",
    "\n",
    "\n",
    "class MaxStackTest(unittest.TestCase):\n",
    "\n",
    "    def test_max_stack(self):\n",
    "        s = MaxStack()\n",
    "\n",
    "        # Check invalid operations on empty stack.\n",
    "        self.assertRaises(IndexError, s.pop)\n",
    "        self.assertRaises(IndexError, s.peek)\n",
    "        self.assertRaises(IndexError, s.max)\n",
    "        \n",
    "        s.push(2)\n",
    "        self.assertEqual(s.peek(), 2)\n",
    "        self.assertEqual(s.max(), 2)\n",
    "        \n",
    "        s.push(1)\n",
    "        self.assertEqual(s.peek(), 1)\n",
    "        self.assertEqual(s.max(), 2)\n",
    "        \n",
    "        s.push(3)\n",
    "        self.assertEqual(s.peek(), 3)\n",
    "        self.assertEqual(s.max(), 3)\n",
    "        \n",
    "        self.assertEqual(s.pop(), 3)\n",
    "        self.assertEqual(s.peek(), 1)\n",
    "        self.assertEqual(s.max(), 2)\n",
    "        \n",
    "        self.assertEqual(s.pop(), 1)\n",
    "        self.assertEqual(s.peek(), 2)\n",
    "        self.assertEqual(s.max(), 2)\n",
    "\n",
    "        self.assertEqual(s.pop(), 2)\n",
    "\n",
    "        # Check invalid operations on empty stack.\n",
    "        self.assertRaises(IndexError, s.pop)\n",
    "        self.assertRaises(IndexError, s.peek)\n",
    "        self.assertRaises(IndexError, s.max)\n",
    "\n",
    "\n",
    "unittest.main(MaxStackTest(), argv=[''], verbosity=2, exit=False)"
   ]
  },
  {
   "cell_type": "markdown",
   "metadata": {},
   "source": [
    "## 4.2 Determine whether braces are balanced"
   ]
  },
  {
   "cell_type": "markdown",
   "metadata": {},
   "source": [
    "### Problem Statement\n",
    "Given a string consisting of any of the following braces `{},(),[]` returns `True` when the braces are balanced and `False` otherwise.\n",
    "\n",
    "#### Clarification\n",
    "In order for a string to be considered balanced, all substrings must be balanced.  As a result, a string such as `([{]})` would not be considered balanced since the substring `[{]` is unbalanced."
   ]
  },
  {
   "cell_type": "code",
   "execution_count": 2,
   "metadata": {},
   "outputs": [
    {
     "name": "stderr",
     "output_type": "stream",
     "text": [
      "test_balanced_braces (__main__.BalancedBracesTest) ... ok\n",
      "\n",
      "----------------------------------------------------------------------\n",
      "Ran 1 test in 0.011s\n",
      "\n",
      "OK\n"
     ]
    },
    {
     "data": {
      "text/plain": [
       "<unittest.main.TestProgram at 0x7fe2200d79b0>"
      ]
     },
     "execution_count": 2,
     "metadata": {},
     "output_type": "execute_result"
    }
   ],
   "source": [
    "import collections                                               \n",
    "import unittest                              \n",
    "\n",
    "\n",
    "# Index of closing braces mapped to expected opening brace.\n",
    "CLOSING_BRACES = {'}':'{', ')':'(', ']':'['}\n",
    "\n",
    "                                                                                                                                      \n",
    "def balanced_braces(string):       \n",
    "    \"\"\"Return True when braces in string are balanced.\"\"\"\n",
    "    stack = collections.deque()\n",
    "    for c in list(string):\n",
    "        if c in CLOSING_BRACES:\n",
    "            if len(stack) < 1:\n",
    "                return False\n",
    "            if stack[-1] is not CLOSING_BRACES[c]:\n",
    "                return False\n",
    "            stack.pop()\n",
    "        else:\n",
    "            stack.append(c)\n",
    "    return len(stack) == 0\n",
    "\n",
    " \n",
    "class BalancedBracesTest(unittest.TestCase):\n",
    "\n",
    "    def test_balanced_braces(self):\n",
    "        case = collections.namedtuple('case', ['input','expected'])\n",
    "        cases = [\n",
    "            case('{}', True),\n",
    "            case('{', False),  # Missing closing brace.\n",
    "            case(']', False),  # Missing opening brace.\n",
    "            case('{]', False),  # Brace mismatch.\n",
    "            case('{[()]}', True),\n",
    "            case('{[(])}', False), # Internal brace mismatch.\n",
    "            case('{{[[(())]]}}', True),\n",
    "        ]\n",
    "        for c in cases:\n",
    "            rcv = balanced_braces(c.input)\n",
    "            self.assertEqual(rcv, c.expected)\n",
    "                                     \n",
    "                                                \n",
    "unittest.main(BalancedBracesTest(), argv=[''], verbosity=2, exit=False)"
   ]
  },
  {
   "cell_type": "markdown",
   "metadata": {},
   "source": [
    "## 4.3 Compute maximum of k-length subarrays"
   ]
  },
  {
   "cell_type": "markdown",
   "metadata": {},
   "source": [
    "### Problem Statement\n",
    "Given an array of integers of size $n$ and value $k$ such that $1 \\leq k \\leq n$, return an array containing the maximum element from each of the k-length subarrays of the input array."
   ]
  },
  {
   "cell_type": "markdown",
   "metadata": {},
   "source": [
    "#### Variation A\n",
    "Use $k$ additional storage."
   ]
  },
  {
   "cell_type": "code",
   "execution_count": 3,
   "metadata": {},
   "outputs": [
    {
     "name": "stderr",
     "output_type": "stream",
     "text": [
      "test_max_k_subarrays_varA (__main__.MaxKSubarraysTest) ... ok\n",
      "\n",
      "----------------------------------------------------------------------\n",
      "Ran 1 test in 0.003s\n",
      "\n",
      "OK\n"
     ]
    },
    {
     "data": {
      "text/plain": [
       "<unittest.main.TestProgram at 0x7fe220094cf8>"
      ]
     },
     "execution_count": 3,
     "metadata": {},
     "output_type": "execute_result"
    }
   ],
   "source": [
    "import collections\n",
    "import unittest\n",
    "\n",
    "\n",
    "class MaxQueue(object):\n",
    "    \"\"\"Queue with support for amortized constant time access to max.\"\"\"\n",
    "\n",
    "    def __init__(self):\n",
    "        self.queue = collections.deque()\n",
    "        self.max_queue = collections.deque()\n",
    "\n",
    "    def enqueue(self, x):\n",
    "        # Iteratively remove elements from max_queue smaller than current.\n",
    "        while len(self.max_queue) > 0 and x > self.max_queue[-1]:\n",
    "            self.max_queue.pop()\n",
    "        self.max_queue.append(x)\n",
    "        self.queue.append(x)\n",
    "\n",
    "    def dequeue(self):\n",
    "        if len(self.queue) > 0:\n",
    "            x = self.queue.popleft()\n",
    "            if x == self.max_queue[0]:\n",
    "                self.max_queue.popleft()\n",
    "            return x\n",
    "        raise IndexError('dequeue invalid: empty queue')\n",
    "\n",
    "    def max(self):\n",
    "        if len(self.max_queue) > 0:\n",
    "            return self.max_queue[0]\n",
    "        raise IndexError('max invalid: empty queue')\n",
    "\n",
    "\n",
    "def max_k_subarrays_varA(elems, k):       \n",
    "    \"\"\"Return an array containing the max of the k-length subarrays.\"\"\"\n",
    "    assert not(len(elems) < k), 'invalid: len(elems) < k'\n",
    "\n",
    "    # Fill max queue with sliding window of k elements.\n",
    "    queue = MaxQueue()\n",
    "    for ind in range(len(elems)):\n",
    "        if ind >= k:\n",
    "            elems[ind-k] = queue.max()\n",
    "            queue.dequeue()\n",
    "        queue.enqueue(elems[ind])\n",
    "    elems[len(elems)-k] = queue.max()\n",
    "    return elems[:len(elems)-k+1]\n",
    "\n",
    "\n",
    "class MaxKSubarraysTest(unittest.TestCase):\n",
    " \n",
    "    def test_max_k_subarrays_varA(self):\n",
    "        case = collections.namedtuple('case', ['input','k','expected'])\n",
    "        cases = [\n",
    "            case([10,5,2,7,8,7],2, [10,5,7,8,8]),\n",
    "            case([10,5,2,7,8,7],3, [10,7,8,8]),\n",
    "            case([10,5,2,7,8,7],4, [10,8,8]),\n",
    "            case([10,5,2,7,8,7],5, [10,8]),\n",
    "        ]\n",
    "        for c in cases:\n",
    "            rcv = max_k_subarrays_varA(c.input, c.k)\n",
    "            self.assertEqual(rcv, c.expected)\n",
    "\n",
    "\n",
    "unittest.main(MaxKSubarraysTest(), argv=[''], verbosity=2, exit=False)"
   ]
  },
  {
   "cell_type": "markdown",
   "metadata": {},
   "source": [
    "#### Variation B\n",
    "Use no additional storage."
   ]
  },
  {
   "cell_type": "code",
   "execution_count": 4,
   "metadata": {},
   "outputs": [
    {
     "name": "stderr",
     "output_type": "stream",
     "text": [
      "test_max_k_subarrays_varB (__main__.MaxKSubarraysTest) ... ok\n",
      "\n",
      "----------------------------------------------------------------------\n",
      "Ran 1 test in 0.003s\n",
      "\n",
      "OK\n"
     ]
    },
    {
     "data": {
      "text/plain": [
       "<unittest.main.TestProgram at 0x7fe22015af98>"
      ]
     },
     "execution_count": 4,
     "metadata": {},
     "output_type": "execute_result"
    }
   ],
   "source": [
    "import collections                                               \n",
    "import unittest                              \n",
    "                                             \n",
    "                                                                                                                                      \n",
    "def max_k_subarrays_varB(elems, k):       \n",
    "    \"\"\"Return an array containing the max of the k-length subarrays.\"\"\"\n",
    "    assert not(len(elems) < k), 'invalid: len(elems) < k'\n",
    "\n",
    "    # Make k passes through array finding max of 2-element subarrays.\n",
    "    i0, iN = 0, len(elems)\n",
    "    for _ in range(k-1):\n",
    "        # Find the maximum of each pair of elements from i0..iN.\n",
    "        ind1, ind2 = i0, i0+1\n",
    "        while ind2 < iN:\n",
    "            elems[ind1] = max(elems[ind1], elems[ind2])\n",
    "            ind1, ind2 = ind1+1, ind2+1\n",
    "        # On each pass the array of elements to compare shrinks by 1.\n",
    "        iN -= 1\n",
    "    return elems[i0:iN]\n",
    "\n",
    "\n",
    "class MaxKSubarraysTest(unittest.TestCase):\n",
    " \n",
    "    def test_max_k_subarrays_varB(self):\n",
    "        case = collections.namedtuple('case', ['input','k','expected'])\n",
    "        cases = [\n",
    "            case([10,5,2,7,8,7],2, [10,5,7,8,8]),\n",
    "            case([10,5,2,7,8,7],3, [10,7,8,8]),\n",
    "            case([10,5,2,7,8,7],4, [10,8,8]),\n",
    "            case([10,5,2,7,8,7],5, [10,8]),\n",
    "        ]\n",
    "        for c in cases:\n",
    "            rcv = max_k_subarrays_varB(c.input, c.k)\n",
    "            self.assertEqual(rcv, c.expected)\n",
    "                                     \n",
    "                                                \n",
    "unittest.main(MaxKSubarraysTest(), argv=[''], verbosity=2, exit=False)"
   ]
  },
  {
   "cell_type": "markdown",
   "metadata": {},
   "source": [
    "## 4.4 Reconstruct array using +/- signs"
   ]
  },
  {
   "cell_type": "markdown",
   "metadata": {},
   "source": [
    "### Problem Statement\n",
    "The sequence `0..N` has been shuffled and the only clue you have about the true order is an array of `+/-` signs which indicate whether the element in that position of the array is larger or smaller than the previous element.  There is no signal for the first element.\n",
    "\n",
    "Implement a function which reconstructs the true order from `+/-` signs."
   ]
  },
  {
   "cell_type": "code",
   "execution_count": null,
   "metadata": {},
   "outputs": [],
   "source": []
  },
  {
   "cell_type": "code",
   "execution_count": null,
   "metadata": {},
   "outputs": [],
   "source": []
  }
 ],
 "metadata": {
  "kernelspec": {
   "display_name": "Python 3",
   "language": "python",
   "name": "python3"
  },
  "language_info": {
   "codemirror_mode": {
    "name": "ipython",
    "version": 3
   },
   "file_extension": ".py",
   "mimetype": "text/x-python",
   "name": "python",
   "nbconvert_exporter": "python",
   "pygments_lexer": "ipython3",
   "version": "3.6.9"
  }
 },
 "nbformat": 4,
 "nbformat_minor": 2
}
