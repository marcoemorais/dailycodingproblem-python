{
 "cells": [
  {
   "cell_type": "markdown",
   "metadata": {},
   "source": [
    "# 11.0 Advanced Data Structures"
   ]
  },
  {
   "cell_type": "markdown",
   "metadata": {},
   "source": [
    "## 11.1 Binary Indexed Tree aka Fenwick Tree\n",
    "\n",
    "### Problem Statement\n",
    "A [binary indexed tree](https://en.wikipedia.org/wiki/Fenwick_tree) aka Fenwick Tree is used to efficiently compute prefix sums over ranges of elements equivalent to bins in a histogram.  The structure supports the `add` and `cumsum` operations using $O(\\log n)$ time and no additional space.\n",
    "\n",
    "Implement a binary indexed tree data structure with the following interface:\n",
    "* Constructor which takes the total number of bins.\n",
    "* `add(t, x)` adds the value $x$ to bin at $t$.\n",
    "* `cumsum(t0, t1)` returns the cumulative sum of the values in bins $[t0, t1]$ where $t0 \\leq t1$.\n",
    "\n",
    "The operations should satisfy the time and space requirements described above."
   ]
  },
  {
   "cell_type": "code",
   "execution_count": 1,
   "metadata": {},
   "outputs": [
    {
     "name": "stderr",
     "output_type": "stream",
     "text": [
      "test_binary_indexed_tree (__main__.BinaryIndexedTreeTest) ... ok\n",
      "\n",
      "----------------------------------------------------------------------\n",
      "Ran 1 test in 0.002s\n",
      "\n",
      "OK\n"
     ]
    },
    {
     "data": {
      "text/plain": [
       "<unittest.main.TestProgram at 0x7f7c712d2710>"
      ]
     },
     "execution_count": 1,
     "metadata": {},
     "output_type": "execute_result"
    }
   ],
   "source": [
    "import unittest\n",
    "\n",
    "\n",
    "class BinaryIndexedTree(object):\n",
    "    \"\"\"A binary indexed tree for computing prefix sums.\"\"\"\n",
    "    \n",
    "    def __init__(self, nbins):\n",
    "        self.bins = [0]*(nbins+1)  # Elements indexed starting from 1.\n",
    "\n",
    "    def add(self, t, x):\n",
    "        \"\"\"Add the value $x$ to bin at $t$.\"\"\"\n",
    "        assert t <= len(self.bins), 'invalid: t > len(self.bins)'\n",
    "        \n",
    "        # Increment the value in all bins from t until end of tree\n",
    "        # by increasing t to the next power of 2 at each iteration.\n",
    "        #\n",
    "        # For example, assume t = 3d.\n",
    "        # Increment bin at index 3 by x.\n",
    "        #\n",
    "        # Increase t by the next power of 2 from 3d to 4d.\n",
    "        # Increment bin at index 4 by x.\n",
    "        #\n",
    "        # Increase t by the next power of 2 from 4d to 8d.\n",
    "        # Increment bin at index 8 by x.\n",
    "        #\n",
    "        # Stop when index is larger than largest bin.\n",
    "        ind = t\n",
    "        while ind < len(self.bins):\n",
    "            self.bins[ind] += x\n",
    "            ind += ind & (-ind)  # Set to next higher power of 2.\n",
    "\n",
    "    def cumsum(self, t0, t1):\n",
    "        \"\"\"Return the cumulative sum of values in bins $[t0, t1]$.\"\"\"\n",
    "        assert t0 <= t1, 'invalid: t0 > t1'\n",
    "        assert t1 <= len(self.bins), 'invalid: t1 > len(self.bins)'\n",
    "\n",
    "        # Compose prefix sum starting from a nonzero bin as\n",
    "        # the difference of 2 prefix sums starting from 0. \n",
    "        if t0 != 1:\n",
    "            return self.cumsum(1, t1) - self.cumsum(1, t0-1)\n",
    "        \n",
    "        # Accumulate the sum of values from bins whose indices are\n",
    "        # computed by subtracting the lowest nonzero power of 2.\n",
    "        #\n",
    "        # For example, assume t1 = 9d.\n",
    "        # Start with value at index 9d (9d = 2^3 + 2^0 = 101).\n",
    "        #\n",
    "        # Subtract lowest nonzero power of 2 from 9d yields 8d.\n",
    "        # Add the value at index 8d (8d = 2^3 = 100).\n",
    "        #\n",
    "        # Subtract lowest nonzero power of 2 from 8d yields 0d.\n",
    "        # Index 0d is not a valid bin and ends the traversal.\n",
    "        result, ind = 0, t1\n",
    "        while ind != 0:\n",
    "            result += self.bins[ind]\n",
    "            ind = ind & (ind-1)  # Subtract lowest nonzero power of 2.\n",
    "        return result\n",
    "\n",
    "\n",
    "class BinaryIndexedTreeTest(unittest.TestCase):\n",
    "    \n",
    "    def test_binary_indexed_tree(self):\n",
    "        nbins = 14\n",
    "        bit = BinaryIndexedTree(nbins)\n",
    "        \n",
    "        # Initialize the tree.\n",
    "        ops = [(1,1),(2,7),(3,3),(4,0),(5,5),(6,8),(7,3),\n",
    "               (8,2),(9,6),(10,2),(11,1),(12,1),(13,4),(14,5)]\n",
    "        for t, x in ops:\n",
    "            bit.add(t, x)\n",
    "        \n",
    "        # Compare expected sum starting from 1 at each value of t. \n",
    "        init_sums = {1:1, 2:8, 3:11, 4:11, 5:16, 6:24, 7:27,\n",
    "                     8:29, 9:35, 10:37, 11:38, 12:39, 13:43, 14:48}\n",
    "        for t1, expected in init_sums.items():\n",
    "            rcv = bit.cumsum(1, t1)\n",
    "            self.assertEqual(rcv, expected)\n",
    "\n",
    "        # Compare some ranges not starting from 1.\n",
    "        init_range_sums = [(5,7,16),(3,4,3),(2,14,47),(9,9,6)]\n",
    "        for t0, t1, expected in init_range_sums:\n",
    "            rcv = bit.cumsum(t0, t1)\n",
    "            self.assertEqual(rcv, expected)\n",
    "\n",
    "        # Add 1 to each bin and verify the sums are updated.\n",
    "        for t in sorted(init_sums):\n",
    "            bit.add(t, 1)\n",
    "            # Update each expected sum at t_i by 1 where i >= t.\n",
    "            for ti in range(t, nbins+1):\n",
    "                init_sums[ti] += 1\n",
    "            # Compare expected sum at each value of t.\n",
    "            for t1, expected in init_sums.items():\n",
    "                rcv = bit.cumsum(1, t1)\n",
    "                self.assertEqual(rcv, expected)\n",
    "\n",
    "\n",
    "unittest.main(BinaryIndexedTreeTest(), argv=[''], verbosity=2, \n",
    "              exit=False)"
   ]
  },
  {
   "cell_type": "code",
   "execution_count": null,
   "metadata": {},
   "outputs": [],
   "source": []
  }
 ],
 "metadata": {
  "kernelspec": {
   "display_name": "Python 3",
   "language": "python",
   "name": "python3"
  },
  "language_info": {
   "codemirror_mode": {
    "name": "ipython",
    "version": 3
   },
   "file_extension": ".py",
   "mimetype": "text/x-python",
   "name": "python",
   "nbconvert_exporter": "python",
   "pygments_lexer": "ipython3",
   "version": "3.6.9"
  }
 },
 "nbformat": 4,
 "nbformat_minor": 2
}
