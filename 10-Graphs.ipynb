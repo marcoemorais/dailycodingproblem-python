{
 "cells": [
  {
   "cell_type": "markdown",
   "metadata": {},
   "source": [
    "# 10.0 Graphs"
   ]
  },
  {
   "cell_type": "markdown",
   "metadata": {},
   "source": [
    "Add some common functions for representing graphs using an adjacency list and converting between graphs and python lists."
   ]
  },
  {
   "cell_type": "code",
   "execution_count": 1,
   "metadata": {},
   "outputs": [],
   "source": [
    "import collections\n",
    "\n",
    "\n",
    "class Graph(object):\n",
    "    \"\"\"Adjacency list representation of a graph.\"\"\"\n",
    "    \n",
    "    def __init__(self):\n",
    "        self.vertices = collections.defaultdict(set)\n",
    "\n",
    "    def add_edge(self, v, w, directed=True):\n",
    "        self.vertices[v].add(w)\n",
    "        if not(directed):\n",
    "            self.add_edge(w, v, directed=True)\n",
    "        elif w not in self.vertices:\n",
    "            self.vertices[w] = set()  # Vertex with no out edges.\n",
    "\n",
    "\n",
    "def make_graph(pairs, directed=True):\n",
    "    \"\"\"Return a graph initialized from a python list of vertices.\"\"\"\n",
    "\n",
    "    g = Graph()\n",
    "    for v, w in pairs:\n",
    "        g.add_edge(v, w, directed=directed)\n",
    "    return g\n",
    "\n",
    "\n",
    "def make_list_bfs(graph, root):\n",
    "    \"\"\"Return a python list of vertices ordered by bfs traversal.\"\"\"\n",
    "\n",
    "    visited, discovered = [], set([root])\n",
    "    queue = collections.deque([root])\n",
    "\n",
    "    while len(queue) > 0:\n",
    "        v = queue.popleft()\n",
    "        visited.append(v)\n",
    "        for w in graph.vertices[v]:\n",
    "            if w not in discovered:\n",
    "                discovered.add(w)\n",
    "                queue.append(w)\n",
    "\n",
    "    return visited\n",
    "\n",
    "\n",
    "def make_list_dfs(graph, root):\n",
    "    \"\"\"Return python list of vertices ordered by dfs traversal.\"\"\"\n",
    "\n",
    "    visited, discovered = [root], set([root])\n",
    "    stack = collections.deque([root])    \n",
    "\n",
    "    while len(stack) > 0:\n",
    "        v = stack[0]\n",
    "        for w in graph.vertices[v]:\n",
    "            if w not in discovered:\n",
    "                discovered.add(w)\n",
    "                stack.appendleft(w)\n",
    "                # Visit order reflects the order in which vertics are\n",
    "                # first seen during the depth first traversal eg the\n",
    "                # descending portion of the recursion.\n",
    "                visited.append(w)\n",
    "                break\n",
    "        # After returning from recursive traversal of subgraph of v,\n",
    "        # then v again is topmost element and should be popped.\n",
    "        if stack[0] is v:\n",
    "            stack.popleft()\n",
    "\n",
    "    return visited"
   ]
  },
  {
   "cell_type": "markdown",
   "metadata": {},
   "source": [
    "## 10.1 Determine if a cycle exists"
   ]
  },
  {
   "cell_type": "markdown",
   "metadata": {},
   "source": [
    "### Problem Statement\n",
    "Given an undirected graph determine if it contains a cycle."
   ]
  },
  {
   "cell_type": "code",
   "execution_count": 2,
   "metadata": {},
   "outputs": [
    {
     "name": "stderr",
     "output_type": "stream",
     "text": [
      "test_has_cycle (__main__.HasCycleTest) ... ok\n",
      "\n",
      "----------------------------------------------------------------------\n",
      "Ran 1 test in 0.002s\n",
      "\n",
      "OK\n"
     ]
    },
    {
     "data": {
      "text/plain": [
       "<unittest.main.TestProgram at 0x7efcacaf6a58>"
      ]
     },
     "execution_count": 2,
     "metadata": {},
     "output_type": "execute_result"
    }
   ],
   "source": [
    "import collections\n",
    "import unittest\n",
    "\n",
    "\n",
    "def has_cycle(graph):\n",
    "    \"\"\"Return True when the graph has a cycle.\"\"\"\n",
    "\n",
    "    # A cycle exists in an undirected graph when there is a back edge.\n",
    "    # A back edge connects to a vertex discovered before its' parent.\n",
    "    # Back edges are identified by performing a dfs traversal, recording\n",
    "    # the parent of each vertex during the traversal, and looking for\n",
    "    # an edge from v to w such that w is also the parent of v.\n",
    "    root = next(iter(graph.vertices.keys()))  # Start from any vertex.\n",
    "    visited, discovered, processed = [root], set([root]), set()\n",
    "    stack, parents = collections.deque([root]), {root:root}\n",
    "    \n",
    "    while len(stack) > 0:\n",
    "        v = stack[0]\n",
    "        for w in graph.vertices[v]:\n",
    "            if w not in discovered:\n",
    "                discovered.add(w)\n",
    "                stack.appendleft(w)  # Descending phase of recursion.\n",
    "                parents[w] = v\n",
    "            elif w not in processed:\n",
    "                # Since we are in the ascending phase of the recursion,\n",
    "                # the order in which we see the vertices is flipped.\n",
    "                if w != parents[v]:\n",
    "                    return True\n",
    "        if stack[0] is v:  # Ascending phase of recursion.\n",
    "            processed.add(v)\n",
    "            stack.popleft()\n",
    "    \n",
    "    return False\n",
    "\n",
    "\n",
    "class HasCycleTest(unittest.TestCase):\n",
    "    \n",
    "    def setUp(self):\n",
    "        # A tree is by definition an acyclic undirected graph.\n",
    "        self.edges1 = [(1,2),(2,3),(2,4)]\n",
    "        self.edges1_cycle = False\n",
    "        # Introduce a cycle into the tree.\n",
    "        self.edges2 = [(1,2),(2,3),(2,4),(4,3)]\n",
    "        self.edges2_cycle = True\n",
    "        # Random acyclic graph.\n",
    "        self.edges3 = [(1,2),(2,3),(2,4),(4,5),(5,6)]\n",
    "        self.edges3_cycle = False\n",
    "        # Introduce a cycle into the previous graph.\n",
    "        self.edges4 = [(1,2),(2,3),(2,4),(4,5),(5,6),(6,3)]\n",
    "        self.edges4_cycle = True  \n",
    "\n",
    "    def test_has_cycle(self):\n",
    "        case = collections.namedtuple('case', ['input','expected'])\n",
    "        cases = [\n",
    "            case(self.edges1, self.edges1_cycle),\n",
    "            case(self.edges2, self.edges2_cycle),\n",
    "            case(self.edges3, self.edges3_cycle),\n",
    "            case(self.edges4, self.edges4_cycle),\n",
    "        ]\n",
    "        for c in cases:\n",
    "            g = make_graph(c.input, directed=False)\n",
    "            rcv = has_cycle(g)\n",
    "            self.assertEqual(rcv, c.expected)\n",
    "\n",
    "\n",
    "unittest.main(HasCycleTest(), argv=[''], verbosity=2, exit=False)"
   ]
  },
  {
   "cell_type": "markdown",
   "metadata": {},
   "source": [
    "## 10.2 Remove edges to create even trees"
   ]
  },
  {
   "cell_type": "markdown",
   "metadata": {},
   "source": [
    "### Problem Statement\n",
    "You are given a tree with an even number of nodes.  Remove some of the edges from the tree such that the disconnected subtrees that remain have an even number of nodes.  \n",
    "\n",
    "Implement a function that returns the maximum number of edges that you can remove while still satisfying this requirement."
   ]
  },
  {
   "cell_type": "code",
   "execution_count": 3,
   "metadata": {},
   "outputs": [
    {
     "name": "stderr",
     "output_type": "stream",
     "text": [
      "test_remove_edges_even_tree (__main__.RemoveEdgesEvenTreeTest) ... ok\n",
      "\n",
      "----------------------------------------------------------------------\n",
      "Ran 1 test in 0.005s\n",
      "\n",
      "OK\n"
     ]
    },
    {
     "data": {
      "text/plain": [
       "<unittest.main.TestProgram at 0x7efcaca55710>"
      ]
     },
     "execution_count": 3,
     "metadata": {},
     "output_type": "execute_result"
    }
   ],
   "source": [
    "import collections\n",
    "import unittest\n",
    "\n",
    "\n",
    "def count_descendents(graph, root):\n",
    "    \"\"\"Return a dictionary with count of descendents per vertex.\"\"\"\n",
    "    \n",
    "    # Perform dfs and count descendents during ascent from recursion.\n",
    "    parents, discovered = {root:root}, set([root])\n",
    "    stack, counts = (collections.deque([root]), \n",
    "                     collections.defaultdict(int))\n",
    "    \n",
    "    while len(stack) > 0:\n",
    "        v = stack[0]\n",
    "        for w in graph.vertices[v]:\n",
    "            if w not in discovered:\n",
    "                discovered.add(w)\n",
    "                parents[w] = v\n",
    "                counts[v] += 1  # Increment count of descendents.\n",
    "                stack.appendleft(w)  # Descending.\n",
    "        if stack[0] is v:  # Ascending.\n",
    "            if parents[v] is not v:  # Avoid double counting root.\n",
    "                # Accumulate the count of descendents in parent.\n",
    "                counts[parents[v]] += counts[v]\n",
    "            stack.popleft()\n",
    "\n",
    "    return counts\n",
    "\n",
    "\n",
    "def remove_edges_even_tree(graph, root):\n",
    "    \"\"\"Return max edges to remove and maintain an even tree.\"\"\"\n",
    "    \n",
    "    # Maximum number of edges to remove and maintain an even\n",
    "    # tree is the count of vertices with odd number of descendents.\n",
    "    counts = count_descendents(graph, root)\n",
    "    del counts[root]  # Cannot remove root.\n",
    "    return len([_ for v in counts.values() if v%2 != 0])\n",
    "\n",
    "\n",
    "class RemoveEdgesEvenTreeTest(unittest.TestCase):\n",
    "    \n",
    "    def setUp(self):\n",
    "        self.edges1 = [(1,2),(1,3),(3,4),(3,5),(4,6),(4,7),(4,8)]\n",
    "        self.root1 = 1\n",
    "        self.edges1_max = 2\n",
    "        self.edges2 = [(1,2),(1,3),(2,4),(2,5),(2,6),(3,7),(3,8),\n",
    "                       (7,9),(8,10)]\n",
    "        self.root2 = 1\n",
    "        self.edges2_max = 3\n",
    "\n",
    "    def test_remove_edges_even_tree(self):\n",
    "        case = collections.namedtuple('case', ['edges','root','expected'])\n",
    "        cases = [\n",
    "            case(self.edges1, self.root1, self.edges1_max),\n",
    "            case(self.edges2, self.root2, self.edges2_max),\n",
    "        ]\n",
    "        for c in cases:\n",
    "            g = make_graph(c.edges, directed=False)\n",
    "            rcv = remove_edges_even_tree(g, c.root)\n",
    "            self.assertEqual(rcv, c.expected)\n",
    "\n",
    "\n",
    "unittest.main(RemoveEdgesEvenTreeTest(), argv=[''], verbosity=2, \n",
    "              exit=False)"
   ]
  },
  {
   "cell_type": "markdown",
   "metadata": {},
   "source": [
    "## 10.3 Create stepword chain"
   ]
  },
  {
   "cell_type": "markdown",
   "metadata": {},
   "source": [
    "### Problem Statement\n",
    "Implement a function that given a pair of words and dictionary of valid words, finds the shortest path of one character transformations between the pair of words. If no path is possible, then return the empty path."
   ]
  },
  {
   "cell_type": "code",
   "execution_count": 4,
   "metadata": {
    "scrolled": true
   },
   "outputs": [
    {
     "name": "stderr",
     "output_type": "stream",
     "text": [
      "test_stepword (__main__.StepwordTest) ... ok\n",
      "\n",
      "----------------------------------------------------------------------\n",
      "Ran 1 test in 0.004s\n",
      "\n",
      "OK\n"
     ]
    },
    {
     "data": {
      "text/plain": [
       "<unittest.main.TestProgram at 0x7efcaca87278>"
      ]
     },
     "execution_count": 4,
     "metadata": {},
     "output_type": "execute_result"
    }
   ],
   "source": [
    "import collections\n",
    "import unittest\n",
    "\n",
    "\n",
    "def is_one_char_diff(word1, word2):\n",
    "    \"\"\"Return True when the words differ by 1 character.\"\"\"\n",
    "    if len(word1) != len(word2):\n",
    "        return False\n",
    "    count_diff = 0\n",
    "    for c1, c2 in zip(word1, word2):\n",
    "        if c1 != c2:\n",
    "            count_diff += 1\n",
    "    return count_diff == 1\n",
    "\n",
    "\n",
    "def stepword(start, end, valid_words):\n",
    "    \"\"\"Find shortest path of 1 character transforms from start to end.\"\"\"\n",
    "    \n",
    "    # Perform bfs traversal to find shortest path in undirected graph.\n",
    "    # At each step, find all valid transforms and record the parent.\n",
    "    # Shortest path is found by reverse steps through parents.\n",
    "    parents = {start:start}\n",
    "    queue, visited = collections.deque([start]), set([start])\n",
    "    \n",
    "    while len(queue) > 0:\n",
    "        v = queue.popleft()\n",
    "        for w in valid_words:\n",
    "            if w not in visited and is_one_char_diff(v, w):\n",
    "                visited.add(w)\n",
    "                parents[w] = v\n",
    "                queue.append(w)\n",
    "\n",
    "    # Solution holds the reverse order path.\n",
    "    solution, word = [], end\n",
    "    while word in parents:\n",
    "        solution.append(word)\n",
    "        if word is start:\n",
    "            break\n",
    "        word = parents[word]\n",
    "    solution[:] = solution[::-1]  # Reverse order.\n",
    "\n",
    "    return solution\n",
    "\n",
    "    \n",
    "class StepwordTest(unittest.TestCase):\n",
    "\n",
    "    def test_stepword(self):\n",
    "        case = collections.namedtuple('case', ['start','end',\n",
    "                                               'valid_words',\n",
    "                                               'expected'])\n",
    "        cases = [\n",
    "            case('dog','cat',\n",
    "                 ['dog','dot','dop','dat','cat'],\n",
    "                 ['dog','dot','dat','cat']),\n",
    "            # No valid transforms.\n",
    "            case('dog','cat',\n",
    "                 ['dog','dot','tod','mat','cat'],\n",
    "                 []),\n",
    "            case('best','rise',\n",
    "                 ['best','four','ruse','hour','rise','home','fill',\n",
    "                  'memo','bust','type','also','pack','time','look',\n",
    "                  'only','rust'],\n",
    "                 ['best','bust','rust','ruse','rise']),\n",
    "        ]\n",
    "        for c in cases:\n",
    "            rcv = stepword(c.start, c.end, c.valid_words)\n",
    "            self.assertEqual(rcv, c.expected)\n",
    "\n",
    "\n",
    "unittest.main(StepwordTest(), argv=[''], verbosity=2, exit=False)"
   ]
  },
  {
   "cell_type": "markdown",
   "metadata": {},
   "source": [
    "## 10.4 Beat Snakes and Ladders"
   ]
  },
  {
   "cell_type": "markdown",
   "metadata": {},
   "source": [
    "### Problem Statement\n",
    "[Snakes and Ladders](https://en.wikipedia.org/wiki/Snakes_and_Ladders) is a board game played on a 10x10 grid where the goal of the game is to advance from the start position at grid cell 0 to the stop position at grid cell 100.  Players take turns rolling a 6-sided die and advance the number of cells given by the die.  Players who land on cells labeled as the bottom of a ladder advance to top of the ladder.  Players who land on cells labeled as the head of a snake are sent backward to the tail of the snake.\n",
    "\n",
    "Find the minimum set of moves required to advance through the board, given a list of positions representing the snakes and ladders on the board."
   ]
  },
  {
   "cell_type": "code",
   "execution_count": 5,
   "metadata": {},
   "outputs": [
    {
     "name": "stderr",
     "output_type": "stream",
     "text": [
      "test_minimum_moves (__main__.MinimumMovesTest) ... ok\n",
      "\n",
      "----------------------------------------------------------------------\n",
      "Ran 1 test in 0.004s\n",
      "\n",
      "OK\n"
     ]
    },
    {
     "data": {
      "text/plain": [
       "<unittest.main.TestProgram at 0x7efcaca55748>"
      ]
     },
     "execution_count": 5,
     "metadata": {},
     "output_type": "execute_result"
    }
   ],
   "source": [
    "import collections\n",
    "import unittest\n",
    "\n",
    "\n",
    "def minimum_moves(snakes_and_ladders):\n",
    "    \"\"\"Find the minimum number of moves to finish Snakes and Ladders.\"\"\"\n",
    "\n",
    "    # Perform bfs traversal and record min steps to reach each position.\n",
    "    steps = {0:0}\n",
    "    queue = collections.deque([0])\n",
    "\n",
    "    while len(queue) > 0:\n",
    "        pos = queue[0]\n",
    "        for roll in range(6,0,-1):  # Try largest rolls first.\n",
    "            nextpos, nextsteps = pos+roll, steps[pos]+1\n",
    "            # Handle landing on snake or ladder.\n",
    "            if nextpos in snakes_and_ladders['snakes']:\n",
    "                nextpos = snakes_and_ladders['snakes'][nextpos]\n",
    "            elif nextpos in snakes_and_ladders['ladders']:\n",
    "                nextpos = snakes_and_ladders['ladders'][nextpos]\n",
    "            # Clamp rolls which take us past end of board.\n",
    "            nextpos = min(nextpos, 100)\n",
    "            # Terminate traversal for this branch when another path \n",
    "            # through board reaches next position in fewer steps.\n",
    "            if nextpos in steps and nextsteps >= steps[nextpos]:\n",
    "                continue\n",
    "            steps[nextpos] = nextsteps  # Min steps to reach nextpos.\n",
    "            if nextpos < 100:  # At least one more step is required.\n",
    "                queue.append(nextpos)\n",
    "        if queue[0] is pos:\n",
    "            queue.popleft()\n",
    "\n",
    "    return steps[100]\n",
    "\n",
    "\n",
    "class MinimumMovesTest(unittest.TestCase):\n",
    "\n",
    "    def setUp(self):\n",
    "        self.snakes_and_ladders = {\n",
    "            'snakes': {17:13,52:29,57:40,62:22,88:18,95:51,97:79},\n",
    "            'ladders': {3:21,8:30,28:84,58:77,75:86,80:100,90:91},\n",
    "        }\n",
    "        self.minimum_moves = 6\n",
    "\n",
    "    def test_minimum_moves(self):\n",
    "        case = collections.namedtuple('case', ['input','expected'])\n",
    "        cases = [\n",
    "            case(self.snakes_and_ladders, self.minimum_moves),\n",
    "        ]\n",
    "        for c in cases:\n",
    "            rcv = minimum_moves(c.input)\n",
    "            self.assertEqual(rcv, c.expected)\n",
    "\n",
    "\n",
    "unittest.main(MinimumMovesTest(), argv=[''], verbosity=2, exit=False)"
   ]
  },
  {
   "cell_type": "markdown",
   "metadata": {},
   "source": [
    "## 10.5 Topological sort"
   ]
  },
  {
   "cell_type": "markdown",
   "metadata": {},
   "source": [
    "### Problem Statement\n",
    "Given a list of courses each with its' own list of prerequisites, return the order in which courses must be completed in order to satisfy the curriculum."
   ]
  },
  {
   "cell_type": "code",
   "execution_count": 6,
   "metadata": {},
   "outputs": [
    {
     "name": "stderr",
     "output_type": "stream",
     "text": [
      "test_completion_order (__main__.CompletionOrderTest) ... ok\n",
      "\n",
      "----------------------------------------------------------------------\n",
      "Ran 1 test in 0.005s\n",
      "\n",
      "OK\n"
     ]
    },
    {
     "data": {
      "text/plain": [
       "<unittest.main.TestProgram at 0x7efcaca55e48>"
      ]
     },
     "execution_count": 6,
     "metadata": {},
     "output_type": "execute_result"
    }
   ],
   "source": [
    "import collections\n",
    "import unittest\n",
    "\n",
    "\n",
    "def dfs(graph, root, visited, order):\n",
    "    \"\"\"Perform a dfs labeling vertices with their topological order.\"\"\"\n",
    "    \n",
    "    stack = collections.deque([root])\n",
    "\n",
    "    while len(stack) > 0:\n",
    "        v = stack[0]\n",
    "        for w in graph.vertices[v]:\n",
    "            if w not in visited:\n",
    "                visited[v] = -1\n",
    "                stack.appendleft(w)\n",
    "        if stack[0] is v:\n",
    "            visited[v] = order  # Visited maps vertex to its' order.\n",
    "            order -= 1\n",
    "            stack.popleft()\n",
    "    \n",
    "    return order\n",
    "\n",
    "\n",
    "def completion_order(courses):\n",
    "    \"\"\"Return a valid order in which courses must be completed.\"\"\"\n",
    "\n",
    "    # Use the course requirements to build a directed acyclic graph.\n",
    "    g = Graph()\n",
    "    for course, prereqs in courses.items():\n",
    "        for prereq in prereqs:\n",
    "            g.add_edge(prereq, course, directed=True)\n",
    "\n",
    "    # Perform repeated dfs over graph until all vertices are visited.\n",
    "    visited, order = {}, len(g.vertices)\n",
    "    for v in g.vertices.keys():\n",
    "        if v not in visited:\n",
    "            # Decrement order during traversal.\n",
    "            order = dfs(g, v, visited, order)\n",
    "\n",
    "    # Build an inverted index from order to course.\n",
    "    course_order = {seq: course for course, seq in visited.items()}\n",
    "    courses = [course_order[seq] for seq in sorted(course_order.keys())]\n",
    "    \n",
    "    return courses\n",
    "\n",
    "\n",
    "class CompletionOrderTest(unittest.TestCase):\n",
    "    \n",
    "    def setUp(self):\n",
    "        self.courses1 = {\n",
    "            '100': [],\n",
    "            '110': ['100'],\n",
    "            '120': ['100'],\n",
    "            '200': ['110','120'],\n",
    "            '220': ['120'],\n",
    "            '300': ['200'],\n",
    "            '350': ['220'],\n",
    "            '400': ['300','350'],\n",
    "        }\n",
    "        self.courses1_order = ['100','110','120','200','300',\n",
    "                               '220','350','400']\n",
    "\n",
    "    def test_completion_order(self):\n",
    "        case = collections.namedtuple('case', ['input','expected'])\n",
    "        cases = [\n",
    "            case(self.courses1, self.courses1_order),\n",
    "        ]\n",
    "        for c in cases:\n",
    "            rcv = completion_order(c.input)\n",
    "            completed = set()\n",
    "            for course in rcv:\n",
    "                # Recursively check prerequisites.\n",
    "                queue = collections.deque(c.input[course])\n",
    "                while len(queue) > 0:\n",
    "                    prereq = queue.popleft()\n",
    "                    self.assertTrue(prereq in completed)\n",
    "                    queue.extend(c.input[prereq])\n",
    "                completed.add(course)\n",
    "\n",
    "\n",
    "unittest.main(CompletionOrderTest(), argv=[''], verbosity=2, exit=False)"
   ]
  },
  {
   "cell_type": "code",
   "execution_count": null,
   "metadata": {},
   "outputs": [],
   "source": []
  }
 ],
 "metadata": {
  "kernelspec": {
   "display_name": "Python 3",
   "language": "python",
   "name": "python3"
  },
  "language_info": {
   "codemirror_mode": {
    "name": "ipython",
    "version": 3
   },
   "file_extension": ".py",
   "mimetype": "text/x-python",
   "name": "python",
   "nbconvert_exporter": "python",
   "pygments_lexer": "ipython3",
   "version": "3.6.9"
  }
 },
 "nbformat": 4,
 "nbformat_minor": 2
}
