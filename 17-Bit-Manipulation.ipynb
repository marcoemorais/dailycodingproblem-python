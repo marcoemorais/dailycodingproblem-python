{
 "cells": [
  {
   "cell_type": "markdown",
   "metadata": {},
   "source": [
    "# 17.0 Bit Manipulation"
   ]
  },
  {
   "cell_type": "markdown",
   "metadata": {},
   "source": [
    "## 17.1 Find element that appears once in list\n",
    "\n",
    "### Problem Statement\n",
    "Given an array of integers where every integer appears 3 times except for 1 of integers, find and return the non-duplicated integer value.\n",
    "\n",
    "Do this in $O(N)$ time and $O(1)$ space."
   ]
  },
  {
   "cell_type": "code",
   "execution_count": 1,
   "metadata": {},
   "outputs": [
    {
     "name": "stderr",
     "output_type": "stream",
     "text": [
      "test_find_unique (__main__.FindUniqueTest) ... ok\n",
      "\n",
      "----------------------------------------------------------------------\n",
      "Ran 1 test in 0.009s\n",
      "\n",
      "OK\n"
     ]
    },
    {
     "data": {
      "text/plain": [
       "<unittest.main.TestProgram at 0x7f1bbd1b47f0>"
      ]
     },
     "execution_count": 1,
     "metadata": {},
     "output_type": "execute_result"
    }
   ],
   "source": [
    "from collections import namedtuple\n",
    "import unittest\n",
    "\n",
    "\n",
    "def find_unique(elems, power=3):\n",
    "    \"\"\"Find and return the non-duplicated integer.\"\"\"\n",
    "\n",
    "    nbits = 32  # Assume 32-bit integers.\n",
    "\n",
    "    # Compute the sum of the bits in each element.\n",
    "    bitsums = [0]*nbits\n",
    "    for x in elems:\n",
    "        for bit in range(nbits):\n",
    "            bitsums[bit] += (x>>bit) & 1\n",
    "\n",
    "    # Add place-value sums not raised to nth power.\n",
    "    result = 0\n",
    "    for ind, bsum in enumerate(bitsums):\n",
    "        if bsum % power != 0:\n",
    "            result += 2**ind\n",
    "    \n",
    "    return result\n",
    "\n",
    "\n",
    "class FindUniqueTest(unittest.TestCase):\n",
    "    \n",
    "    def test_find_unique(self):\n",
    "        case = namedtuple('case', ['elems', 'power', 'expected'])\n",
    "        cases = [\n",
    "            # Find unique among 2 repeating values.\n",
    "            case([1,2,2], 2, 1),\n",
    "            case([1,2,1], 2, 2),\n",
    "            # Find unique among 3 repeating values.\n",
    "            case([3,3,2,1,2,2,3], 3, 1),\n",
    "            case([3,1,2,1,2,2,1], 3, 3),\n",
    "            case([3,3,1,1,2,1,3], 3, 2),\n",
    "            case([13,19,13,13], 3, 19),\n",
    "            case([1,2,3,3,3,1,3,1,1], 4, 2),\n",
    "            # Find unique among 4 repeating values.\n",
    "            case([11,2,30,30,30,11,30,11,11], 4, 2),\n",
    "            case([21,30,30,11,30,21,30,21,21], 4, 11),\n",
    "        ]\n",
    "        for c in cases:\n",
    "            rcv = find_unique(c.elems, power=c.power)\n",
    "            self.assertEqual(rcv, c.expected)\n",
    "\n",
    "\n",
    "unittest.main(FindUniqueTest(), argv=[''], verbosity=2, exit=False)"
   ]
  },
  {
   "cell_type": "code",
   "execution_count": null,
   "metadata": {},
   "outputs": [],
   "source": []
  }
 ],
 "metadata": {
  "kernelspec": {
   "display_name": "Python 3",
   "language": "python",
   "name": "python3"
  },
  "language_info": {
   "codemirror_mode": {
    "name": "ipython",
    "version": 3
   },
   "file_extension": ".py",
   "mimetype": "text/x-python",
   "name": "python",
   "nbconvert_exporter": "python",
   "pygments_lexer": "ipython3",
   "version": "3.6.9"
  }
 },
 "nbformat": 4,
 "nbformat_minor": 2
}
