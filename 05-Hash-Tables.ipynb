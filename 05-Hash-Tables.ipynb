{
 "cells": [
  {
   "cell_type": "markdown",
   "metadata": {},
   "source": [
    "# 5.0 Hash Tables"
   ]
  },
  {
   "cell_type": "markdown",
   "metadata": {},
   "source": [
    "## 5.1 Implement an LRU cache"
   ]
  },
  {
   "cell_type": "markdown",
   "metadata": {},
   "source": [
    "### Problem Statement\n",
    "Implement a least recently used (LRU) cache having the following interface:\n",
    "* Constructor which takes maximum number of elements in the cache.\n",
    "* `set(key, value)` sets the key equal to value.\n",
    "  * If adding a new entry to the cache were to cause the cache to exceed the maximum capacity set in the constructor, then evict the least recently accessed entry.\n",
    "  * If the key already exists in the cache, then mark this key as the most recently used.\n",
    "  * This operation should complete in constant time.\n",
    "* `get(key)` returns the value associated with key or None if no such key exists in the cache.\n",
    "  * If the key exists in the cache, then mark this key as the most recently used.\n",
    "  * This operation should complete in constant time."
   ]
  },
  {
   "cell_type": "code",
   "execution_count": 1,
   "metadata": {},
   "outputs": [
    {
     "name": "stderr",
     "output_type": "stream",
     "text": [
      "test_lru_cache (__main__.LRUCacheTest) ... ok\n",
      "\n",
      "----------------------------------------------------------------------\n",
      "Ran 1 test in 0.006s\n",
      "\n",
      "OK\n"
     ]
    },
    {
     "data": {
      "text/plain": [
       "<unittest.main.TestProgram at 0x7f343c0ac2e8>"
      ]
     },
     "execution_count": 1,
     "metadata": {},
     "output_type": "execute_result"
    }
   ],
   "source": [
    "import collections\n",
    "import unittest\n",
    "\n",
    "\n",
    "class LRUCache(object):\n",
    "    \"\"\"Least recently used cache with max capacity eviction policy.\"\"\"\n",
    "    \n",
    "    def __init__(self, max_capacity=3):\n",
    "        self.max_capacity = max_capacity\n",
    "        self.entries = collections.OrderedDict()  # Cheating.\n",
    "        \n",
    "    def set(self, key, value):\n",
    "        if key not in self.entries:\n",
    "            if len(self.entries) == self.max_capacity:\n",
    "                self.entries.popitem(last=False)\n",
    "            self.entries[key] = value\n",
    "        else:\n",
    "            self.entries[key] = value\n",
    "            self.entries.move_to_end(key)\n",
    "\n",
    "    def get(self, key):\n",
    "        value = self.entries.get(key)\n",
    "        if value is not None:\n",
    "            self.entries.move_to_end(key)\n",
    "        return value\n",
    "\n",
    "\n",
    "class LRUCacheTest(unittest.TestCase):\n",
    "\n",
    "    def test_lru_cache(self):\n",
    "        max_capacity = 3\n",
    "        lru = LRUCache(max_capacity=max_capacity)\n",
    "        \n",
    "        # Fill to capacity.\n",
    "        lru.set('k1', 'v1')\n",
    "        lru.set('k2', 'v2')\n",
    "        lru.set('k3', 'v3')\n",
    "        \n",
    "        lru.set('k4', 'v4')  # Evict k1.\n",
    "        self.assertIsNone(lru.get('k1'))\n",
    "        \n",
    "        # Access k2 so that k3 becomes least recently used.\n",
    "        self.assertEqual(lru.get('k2'), 'v2')\n",
    "        lru.set('k5', 'v5')  # Evict k3.\n",
    "        self.assertIsNone(lru.get('k3'))\n",
    "\n",
    "        # Update k4 so that k2 becomes least recently used.\n",
    "        lru.set('k4', 'v44')\n",
    "        lru.set('k6', 'v6')  # Evict k2.\n",
    "        self.assertIsNone(lru.get('k2'))\n",
    "\n",
    "\n",
    "unittest.main(LRUCacheTest(), argv=[''], verbosity=2, exit=False)"
   ]
  },
  {
   "cell_type": "markdown",
   "metadata": {},
   "source": [
    "## 5.2 Cut brick wall"
   ]
  },
  {
   "cell_type": "markdown",
   "metadata": {},
   "source": [
    "### Problem Statement\n",
    "Given a wall of height $h$ built from bricks of irregular size.  Find the vertical line in the wall that requires the fewest number of bricks to be cut.  A vertical line in a location where 2 bricks meet requires no cut."
   ]
  },
  {
   "cell_type": "code",
   "execution_count": 2,
   "metadata": {},
   "outputs": [
    {
     "name": "stderr",
     "output_type": "stream",
     "text": [
      "test_solution (__main__.FindMinimumCutTest) ... ok\n",
      "\n",
      "----------------------------------------------------------------------\n",
      "Ran 1 test in 0.009s\n",
      "\n",
      "OK\n"
     ]
    },
    {
     "data": {
      "text/plain": [
       "<unittest.main.TestProgram at 0x7f343c02b470>"
      ]
     },
     "execution_count": 2,
     "metadata": {},
     "output_type": "execute_result"
    }
   ],
   "source": [
    "import collections\n",
    "import unittest\n",
    "\n",
    "\n",
    "def find_mininum_cut(wall):\n",
    "    \"\"\"Return vertical line through wall with fewest bricks to cut.\"\"\"\n",
    "    # Wall is represented by a matrix of brick lengths.\n",
    "    # Sum of brick lengths in a row will be same (no holes in wall).\n",
    "\n",
    "    # Record the count of bricks that end at vertical position.\n",
    "    counts = collections.defaultdict(int)\n",
    "    for row in wall:\n",
    "        pos = 0\n",
    "        for brick in row[:-1]:  # Ignore last brick along edge.\n",
    "            pos += brick\n",
    "            counts[pos] += 1\n",
    "\n",
    "    # Find the vertical position having the most bricks which meet.\n",
    "    maxpos, maxrows = 0, 0\n",
    "    for pos, nrows in counts.items():\n",
    "        if nrows > maxrows:\n",
    "            maxpos, maxrows = pos, nrows\n",
    "\n",
    "    numcuts = len(wall)-maxrows\n",
    "    return (maxpos, numcuts)\n",
    "\n",
    "\n",
    "class FindMinimumCutTest(unittest.TestCase):\n",
    "\n",
    "    # Minimum cut through wall1 is 8 units from left and requires 2 cuts.\n",
    "    wall1_expected = (8,2)\n",
    "    wall1 = [\n",
    "        [3,5,1,1],\n",
    "        [2,3,3,2],\n",
    "        [5,5],\n",
    "        [4,4,2],\n",
    "        [1,3,3,3],\n",
    "        [1,1,6,1,1],\n",
    "    ]\n",
    "\n",
    "    def test_solution(self):\n",
    "        case = collections.namedtuple('case', ['input','expected'])\n",
    "        cases = [\n",
    "            case(self.wall1, self.wall1_expected),\n",
    "        ]\n",
    "        for c in cases:\n",
    "            rcv = find_mininum_cut(c.input)\n",
    "            self.assertEqual(rcv, c.expected)\n",
    "\n",
    "\n",
    "unittest.main(FindMinimumCutTest(), argv=[''], verbosity=2, exit=False)"
   ]
  },
  {
   "cell_type": "markdown",
   "metadata": {},
   "source": [
    "## 5.3 Implement a sparse array"
   ]
  },
  {
   "cell_type": "markdown",
   "metadata": {},
   "source": [
    "### Problem Statement"
   ]
  },
  {
   "cell_type": "code",
   "execution_count": null,
   "metadata": {},
   "outputs": [],
   "source": []
  },
  {
   "cell_type": "code",
   "execution_count": null,
   "metadata": {},
   "outputs": [],
   "source": []
  }
 ],
 "metadata": {
  "kernelspec": {
   "display_name": "Python 3",
   "language": "python",
   "name": "python3"
  },
  "language_info": {
   "codemirror_mode": {
    "name": "ipython",
    "version": 3
   },
   "file_extension": ".py",
   "mimetype": "text/x-python",
   "name": "python",
   "nbconvert_exporter": "python",
   "pygments_lexer": "ipython3",
   "version": "3.6.9"
  }
 },
 "nbformat": 4,
 "nbformat_minor": 2
}
