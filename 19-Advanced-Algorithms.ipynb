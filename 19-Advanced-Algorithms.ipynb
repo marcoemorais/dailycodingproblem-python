{
 "cells": [
  {
   "cell_type": "markdown",
   "metadata": {},
   "source": [
    "# 19.0 Advanced Algorithms"
   ]
  },
  {
   "cell_type": "markdown",
   "metadata": {},
   "source": [
    "## 19.1 Rabin-Karp\n",
    "\n",
    "### Problem Statement\n",
    "Given an input sequence of size $n$ and a pattern of size $m$, implement a function to find all occurences of a pattern in the sequence by making on average $O(n+m)$ comparisions between sequence and pattern instead of the $O(nm)$ number of comparisions made using brute force pattern matching."
   ]
  },
  {
   "cell_type": "code",
   "execution_count": 1,
   "metadata": {},
   "outputs": [
    {
     "name": "stderr",
     "output_type": "stream",
     "text": [
      "test_patmatch (__main__.PatmatchTest) ... ok\n",
      "test_rolling_hash (__main__.PatmatchTest) ... ok\n",
      "\n",
      "----------------------------------------------------------------------\n",
      "Ran 2 tests in 0.005s\n",
      "\n",
      "OK\n"
     ]
    },
    {
     "data": {
      "text/plain": [
       "<unittest.main.TestProgram at 0x7f1f443c1588>"
      ]
     },
     "execution_count": 1,
     "metadata": {},
     "output_type": "execute_result"
    }
   ],
   "source": [
    "from collections import namedtuple\n",
    "import unittest\n",
    "\n",
    "\n",
    "BASE = 131  # Next prime after 2^7.\n",
    "\n",
    "\n",
    "def rolling_hash(string, base=BASE, prevhash=None, prevchar=None):\n",
    "    \"\"\"Compute rolling hash from previous hash value and character.\"\"\"\n",
    "\n",
    "    newhash, m = 0, len(string)\n",
    "    \n",
    "    # Compute the full hash.\n",
    "    if prevhash is None:\n",
    "        for ind, c in enumerate(string):\n",
    "            newhash = (newhash*base) + ord(c)  # Horner's rule.\n",
    "    # Compute a rolling hash by removing the contribution of the \n",
    "    # previous character and adding contribution of last character.\n",
    "    else:\n",
    "        newhash = prevhash\n",
    "        newhash -= base**(m-1) * ord(prevchar)\n",
    "        newhash = (newhash*base) + ord(string[-1])\n",
    "\n",
    "    return newhash\n",
    "\n",
    "\n",
    "def patmatch(string, pattern):\n",
    "    \"\"\"Return start index of all occurences of pattern in string.\"\"\"\n",
    "\n",
    "    matches = []\n",
    "    if len(pattern) > len(string):\n",
    "        return matches\n",
    "\n",
    "    # Hash the pattern and then step through the string char-by-char\n",
    "    # computing rolling hash of characters in a window of len(pattern).\n",
    "    # If the rolling hash matches the pattern hash, then perform a \n",
    "    # full comparision (to avoid spurious false positives) and, if\n",
    "    # matches, then add the index of the character to the matches.\n",
    "    # The loop terminates when reaching len(string)-len(pattern)+1.\n",
    "    pathash = rolling_hash(pattern)\n",
    "    strhash, prevchar, ind = None, None, 0\n",
    "    \n",
    "    while ind < len(string)-len(pattern)+1:\n",
    "        substr = string[ind:ind+len(pattern)]\n",
    "        strhash = rolling_hash(substr, prevhash=strhash, \n",
    "                               prevchar=prevchar)\n",
    "        if strhash == pathash and substr == pattern:\n",
    "            matches.append(ind)\n",
    "        prevchar = substr[0]\n",
    "        ind += 1\n",
    "\n",
    "    return matches\n",
    "\n",
    "\n",
    "class PatmatchTest(unittest.TestCase):\n",
    "\n",
    "    def test_rolling_hash(self):\n",
    "        cases = [\n",
    "            'hello',\n",
    "            'world',\n",
    "            'rolling',\n",
    "            'hash'\n",
    "        ]\n",
    "        for string in cases:\n",
    "            # Compute the full hash of the input.\n",
    "            h1 = rolling_hash(string)\n",
    "            # Duplicate the input.  Step through char-by-char\n",
    "            # computing the rolling hash and compare the result\n",
    "            # to the full hash after stepping through len(string).\n",
    "            s2, h2, ind, n = string+string, h1, 1, len(string)\n",
    "            while ind <= n:\n",
    "                h2 = rolling_hash(s2[ind:ind+n], \n",
    "                                  prevhash=h2, prevchar=s2[ind-1])\n",
    "                ind += 1\n",
    "            self.assertEqual(h1, h2)\n",
    "\n",
    "    def test_patmatch(self):\n",
    "        case = namedtuple('case', ['string','pattern','expected'])\n",
    "        cases = [\n",
    "            case('abracadabra', 'abr', [0,7]),\n",
    "            case('hello', 'hello', [0]),\n",
    "            case('hellohello', 'hello', [0,5]),\n",
    "            # Negative example.\n",
    "            case('hello', 'hallo', []),\n",
    "            # Some numerical examples as strings.\n",
    "            case('0123456789','0123', [0]),\n",
    "            case('0123456789','3456', [3]),\n",
    "            case('0123456789','6789', [6]),\n",
    "            case('0123456789','019', []),\n",
    "            case('0123456789','349', []),\n",
    "            case('0123456789','780', []),\n",
    "        ]\n",
    "        for c in cases:\n",
    "            rcv = patmatch(c.string, c.pattern)\n",
    "            self.assertEqual(rcv, c.expected)\n",
    "\n",
    "\n",
    "unittest.main(PatmatchTest(), argv=[''], verbosity=2, exit=False)"
   ]
  },
  {
   "cell_type": "code",
   "execution_count": null,
   "metadata": {},
   "outputs": [],
   "source": []
  }
 ],
 "metadata": {
  "kernelspec": {
   "display_name": "Python 3",
   "language": "python",
   "name": "python3"
  },
  "language_info": {
   "codemirror_mode": {
    "name": "ipython",
    "version": 3
   },
   "file_extension": ".py",
   "mimetype": "text/x-python",
   "name": "python",
   "nbconvert_exporter": "python",
   "pygments_lexer": "ipython3",
   "version": "3.6.9"
  }
 },
 "nbformat": 4,
 "nbformat_minor": 2
}
