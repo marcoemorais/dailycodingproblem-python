{
 "cells": [
  {
   "cell_type": "markdown",
   "metadata": {},
   "source": [
    "# 13.0 Dynamic Programming"
   ]
  },
  {
   "cell_type": "markdown",
   "metadata": {},
   "source": [
    "## 13.1 Ways to climb a staircase\n",
    "\n",
    "### Problem Statement\n",
    "Implement a function that given some height of a staircase, named $h$, and set of possible steps, named $S$, returns all of the unique ways to climb the staircase."
   ]
  },
  {
   "cell_type": "code",
   "execution_count": 1,
   "metadata": {},
   "outputs": [
    {
     "name": "stderr",
     "output_type": "stream",
     "text": [
      "test_staircase (__main__.StaircaseTest) ... ok\n",
      "\n",
      "----------------------------------------------------------------------\n",
      "Ran 1 test in 0.002s\n",
      "\n",
      "OK\n"
     ]
    },
    {
     "data": {
      "text/plain": [
       "<unittest.main.TestProgram at 0x7ff2bd227f28>"
      ]
     },
     "execution_count": 1,
     "metadata": {},
     "output_type": "execute_result"
    }
   ],
   "source": [
    "from collections import namedtuple\n",
    "import unittest\n",
    "\n",
    "\n",
    "def staircase(h, S, cache={}):\n",
    "    \"\"\"Return unique ways to climb staircase height h using steps S.\"\"\"\n",
    "\n",
    "    soltns = set()\n",
    "    for s in S:\n",
    "        if s == h:\n",
    "            soltns.add((s,))\n",
    "        elif h-s > 0:\n",
    "            subs = (staircase(h-s, S, cache=cache) \n",
    "                    if h-s not in cache else cache[h-s])\n",
    "            for sub in subs:\n",
    "                soltns.add((s,) + sub)\n",
    "                soltns.add(sub + (s,))\n",
    "\n",
    "    cache[h] = soltns  # Update cache.\n",
    "    return soltns\n",
    "\n",
    "\n",
    "class StaircaseTest(unittest.TestCase):\n",
    "\n",
    "    def test_staircase(self):\n",
    "        case = namedtuple('case', ['h','S','expected'])\n",
    "        cases = [\n",
    "            case(2, {1}, {(1,1)}),\n",
    "            case(2, {1,2}, {(1,1),(2,)}),\n",
    "            case(3, {1}, {(1,1,1)}),\n",
    "            case(3, {1,2}, {(1,1,1),(1,2),(2,1)}),\n",
    "            case(3, {1,2,3}, {(1,1,1),(1,2),(2,1),(3,)}),\n",
    "            case(4, {1,2}, \n",
    "                 {(1,1,1,1),(2,1,1),(1,2,1),(1,1,2),(2,2)}),\n",
    "            case(4, {1,2,3}, \n",
    "                 {(1,1,1,1),(2,1,1),(1,2,1),(1,1,2),(2,2),(1,3),(3,1)}),\n",
    "            case(5, {1,2,3},\n",
    "                 {(1,1,1,1,1),\n",
    "                  (2,1,1,1),(1,2,1,1),(1,1,2,1),(1,1,1,2),\n",
    "                  (2,2,1),(1,2,2),(2,1,2),\n",
    "                  (3,1,1),(1,3,1),(1,1,3),(3,2),(2,3)}),\n",
    "        ]\n",
    "        for c in cases:\n",
    "            rcv = staircase(c.h, c.S, cache={})\n",
    "            self.assertEqual(rcv, c.expected)\n",
    "\n",
    "\n",
    "unittest.main(StaircaseTest(), argv=[''], verbosity=2, exit=False)"
   ]
  },
  {
   "cell_type": "markdown",
   "metadata": {},
   "source": [
    "## 13.2 Ways to decode a string\n",
    "\n",
    "### Problem Statement\n",
    "Given a mapping of characters to number such as $a=1, b=2, \\cdots, z=26$ and a message encoded using this mapping, return all of the unique ways the message can be decoded.\n",
    "\n",
    "Only messages with valid decodings are passed as input.\n",
    "\n",
    "#### Examples\n",
    "```\n",
    "message  : 111\n",
    "decodings: {'aaa','ak','ka'}\n",
    "```"
   ]
  },
  {
   "cell_type": "code",
   "execution_count": 2,
   "metadata": {},
   "outputs": [
    {
     "name": "stderr",
     "output_type": "stream",
     "text": [
      "test_decoder (__main__.DecoderTest) ... ok\n",
      "\n",
      "----------------------------------------------------------------------\n",
      "Ran 1 test in 0.005s\n",
      "\n",
      "OK\n"
     ]
    },
    {
     "data": {
      "text/plain": [
       "<unittest.main.TestProgram at 0x7ff2bd1a0518>"
      ]
     },
     "execution_count": 2,
     "metadata": {},
     "output_type": "execute_result"
    }
   ],
   "source": [
    "from collections import namedtuple\n",
    "import unittest\n",
    "\n",
    "\n",
    "# ALPHA maps an integer to a character in the alphabet used by messages.\n",
    "ALPHA = {str(ind+1):chr(num) \n",
    "         for ind, num in enumerate(range(ord('a'), ord('z')+1))}\n",
    "\n",
    "\n",
    "def cartesian_product_str(strset1, strset2):\n",
    "    \"\"\"Return the cartesian product of sets of strings.\"\"\"\n",
    "    product = set()\n",
    "    for str1 in strset1:\n",
    "        for str2 in strset2:\n",
    "            product.add(''.join([str1, str2]))\n",
    "    return product\n",
    "\n",
    "\n",
    "def decoder(msg, alpha=ALPHA, cache={}):\n",
    "    \"\"\"Return unique ways to decode msg using alpha.\"\"\"\n",
    "\n",
    "    # Initialize solution to either empty set or alphabet value.\n",
    "    # When the full message is in the alphabet then the only\n",
    "    # other subset of the full message is the empty set.\n",
    "    soltns = set() if msg not in alpha else set([alpha[msg]])\n",
    "\n",
    "    # Split the message into 3 parts: left, center, right\n",
    "    # Splitting simplifies first and last character handling.\n",
    "    # All messages decoded within the loop are composites of\n",
    "    # characters from the alphabet.  As a result, the solution\n",
    "    # requires taking cartesian product of composite solutions.\n",
    "    for ind, c in enumerate(msg):\n",
    "        subs = set([alpha[c]])\n",
    "        if ind > 0:\n",
    "            lmsg = msg[:ind]\n",
    "            lsoltn = (decoder(lmsg, alpha, cache=cache) \n",
    "                      if lmsg not in cache else cache[lmsg])\n",
    "            subs = cartesian_product_str(lsoltn, subs)\n",
    "        if ind+1 < len(msg):\n",
    "            rmsg = msg[ind+1:]\n",
    "            rsoltn = (decoder(rmsg, alpha, cache=cache)\n",
    "                      if rmsg not in cache else cache[rmsg])\n",
    "            subs = cartesian_product_str(subs, rsoltn)\n",
    "        soltns = soltns.union(subs)\n",
    "\n",
    "    cache[msg] = soltns  # Update cache.\n",
    "    return soltns\n",
    "\n",
    "\n",
    "class DecoderTest(unittest.TestCase):\n",
    "    \n",
    "    def test_decoder(self):\n",
    "        case = namedtuple('case', ['msg', 'expected'])\n",
    "        cases = [\n",
    "            case('1', {'a'}),\n",
    "            case('12', {'ab','l'}),\n",
    "            case('123', {'abc','aw','lc'}),\n",
    "            case('1234', {'abcd','awd','lcd'}),\n",
    "            case('111', {'ka','ak','aaa'}),\n",
    "        ]\n",
    "        for c in cases:\n",
    "            rcv = decoder(c.msg, cache={})\n",
    "            self.assertEqual(rcv, c.expected)\n",
    "\n",
    "\n",
    "unittest.main(DecoderTest(), argv=[''], verbosity=2, exit=False)"
   ]
  },
  {
   "cell_type": "code",
   "execution_count": null,
   "metadata": {},
   "outputs": [],
   "source": []
  }
 ],
 "metadata": {
  "kernelspec": {
   "display_name": "Python 3",
   "language": "python",
   "name": "python3"
  },
  "language_info": {
   "codemirror_mode": {
    "name": "ipython",
    "version": 3
   },
   "file_extension": ".py",
   "mimetype": "text/x-python",
   "name": "python",
   "nbconvert_exporter": "python",
   "pygments_lexer": "ipython3",
   "version": "3.6.9"
  }
 },
 "nbformat": 4,
 "nbformat_minor": 2
}
