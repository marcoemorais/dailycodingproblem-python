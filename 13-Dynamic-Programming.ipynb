{
 "cells": [
  {
   "cell_type": "markdown",
   "metadata": {},
   "source": [
    "# 13.0 Dynamic Programming"
   ]
  },
  {
   "cell_type": "markdown",
   "metadata": {},
   "source": [
    "## 13.1 Number of ways to climb a staircase\n",
    "\n",
    "### Problem Statement\n",
    "Implement a function that given some height of a staircase, named $h$, and set of possible steps, named $S$, returns all of the unique ways to climb the staircase."
   ]
  },
  {
   "cell_type": "code",
   "execution_count": 1,
   "metadata": {},
   "outputs": [
    {
     "name": "stderr",
     "output_type": "stream",
     "text": [
      "test_staircase (__main__.StaircaseTest) ... ok\n",
      "\n",
      "----------------------------------------------------------------------\n",
      "Ran 1 test in 0.004s\n",
      "\n",
      "OK\n"
     ]
    },
    {
     "data": {
      "text/plain": [
       "<unittest.main.TestProgram at 0x7f7df821de10>"
      ]
     },
     "execution_count": 1,
     "metadata": {},
     "output_type": "execute_result"
    }
   ],
   "source": [
    "from collections import namedtuple\n",
    "import unittest\n",
    "\n",
    "\n",
    "def staircase(h, S, cache={}):\n",
    "    \"\"\"Return unique ways to climb staircase height h using steps S.\"\"\"\n",
    "\n",
    "    soltns = set()\n",
    "    for s in S:\n",
    "        if s == h:\n",
    "            soltns.add((s,))\n",
    "        elif h-s > 0:\n",
    "            subs = (staircase(h-s, S, cache=cache) \n",
    "                    if h-s not in cache else cache[h-s])\n",
    "            for sub in subs:\n",
    "                soltns.add((s,) + sub)\n",
    "                soltns.add(sub + (s,))\n",
    "\n",
    "    return soltns\n",
    "\n",
    "\n",
    "class StaircaseTest(unittest.TestCase):\n",
    "\n",
    "    def test_staircase(self):\n",
    "        case = namedtuple('case', ['h','S','expected'])\n",
    "        cases = [\n",
    "            case(2, {1}, {(1,1)}),\n",
    "            case(2, {1,2}, {(1,1),(2,)}),\n",
    "            case(3, {1}, {(1,1,1)}),\n",
    "            case(3, {1,2}, {(1,1,1),(1,2),(2,1)}),\n",
    "            case(3, {1,2,3}, {(1,1,1),(1,2),(2,1),(3,)}),\n",
    "            case(4, {1,2}, \n",
    "                 {(1,1,1,1),(2,1,1),(1,2,1),(1,1,2),(2,2)}),\n",
    "            case(4, {1,2,3}, \n",
    "                 {(1,1,1,1),(2,1,1),(1,2,1),(1,1,2),(2,2),(1,3),(3,1)}),\n",
    "            case(5, {1,2,3},\n",
    "                 {(1,1,1,1,1),\n",
    "                  (2,1,1,1),(1,2,1,1),(1,1,2,1),(1,1,1,2),\n",
    "                  (2,2,1),(1,2,2),(2,1,2),\n",
    "                  (3,1,1),(1,3,1),(1,1,3),(3,2),(2,3)}),\n",
    "        ]\n",
    "        for c in cases:\n",
    "            rcv = staircase(c.h, c.S)\n",
    "            self.assertEqual(rcv, c.expected)\n",
    "\n",
    "\n",
    "unittest.main(StaircaseTest(), argv=[''], verbosity=2, exit=False)"
   ]
  },
  {
   "cell_type": "code",
   "execution_count": null,
   "metadata": {},
   "outputs": [],
   "source": []
  }
 ],
 "metadata": {
  "kernelspec": {
   "display_name": "Python 3",
   "language": "python",
   "name": "python3"
  },
  "language_info": {
   "codemirror_mode": {
    "name": "ipython",
    "version": 3
   },
   "file_extension": ".py",
   "mimetype": "text/x-python",
   "name": "python",
   "nbconvert_exporter": "python",
   "pygments_lexer": "ipython3",
   "version": "3.6.9"
  }
 },
 "nbformat": 4,
 "nbformat_minor": 2
}
